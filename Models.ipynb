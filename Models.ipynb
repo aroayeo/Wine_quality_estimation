{
 "cells": [
  {
   "cell_type": "markdown",
   "metadata": {},
   "source": [
    "## Classifiers Models: With Interactions\n",
    "### Multiclass Classifiers - 3 classes"
   ]
  },
  {
   "cell_type": "markdown",
   "metadata": {},
   "source": [
    "Calling the dataset with interactions"
   ]
  },
  {
   "cell_type": "code",
   "execution_count": 1,
   "metadata": {},
   "outputs": [
    {
     "data": {
      "text/html": [
       "<div>\n",
       "<style scoped>\n",
       "    .dataframe tbody tr th:only-of-type {\n",
       "        vertical-align: middle;\n",
       "    }\n",
       "\n",
       "    .dataframe tbody tr th {\n",
       "        vertical-align: top;\n",
       "    }\n",
       "\n",
       "    .dataframe thead th {\n",
       "        text-align: right;\n",
       "    }\n",
       "</style>\n",
       "<table border=\"1\" class=\"dataframe\">\n",
       "  <thead>\n",
       "    <tr style=\"text-align: right;\">\n",
       "      <th></th>\n",
       "      <th>fixed acidity</th>\n",
       "      <th>volatile acidity</th>\n",
       "      <th>citric acid</th>\n",
       "      <th>residual sugar</th>\n",
       "      <th>chlorides</th>\n",
       "      <th>free sulfur dioxide</th>\n",
       "      <th>total sulfur dioxide</th>\n",
       "      <th>density</th>\n",
       "      <th>pH</th>\n",
       "      <th>sulphates</th>\n",
       "      <th>...</th>\n",
       "      <th>residual sugar_chlorides</th>\n",
       "      <th>residual sugar_total sulfur dioxide</th>\n",
       "      <th>chlorides_density</th>\n",
       "      <th>chlorides_sulphates</th>\n",
       "      <th>free sulfur dioxide_sulphates</th>\n",
       "      <th>total sulfur dioxide_sulphates</th>\n",
       "      <th>density_pH</th>\n",
       "      <th>volatile acidity_alcohol</th>\n",
       "      <th>quality</th>\n",
       "      <th>type</th>\n",
       "    </tr>\n",
       "    <tr>\n",
       "      <th>cat</th>\n",
       "      <th></th>\n",
       "      <th></th>\n",
       "      <th></th>\n",
       "      <th></th>\n",
       "      <th></th>\n",
       "      <th></th>\n",
       "      <th></th>\n",
       "      <th></th>\n",
       "      <th></th>\n",
       "      <th></th>\n",
       "      <th></th>\n",
       "      <th></th>\n",
       "      <th></th>\n",
       "      <th></th>\n",
       "      <th></th>\n",
       "      <th></th>\n",
       "      <th></th>\n",
       "      <th></th>\n",
       "      <th></th>\n",
       "      <th></th>\n",
       "      <th></th>\n",
       "    </tr>\n",
       "  </thead>\n",
       "  <tbody>\n",
       "    <tr>\n",
       "      <th>0</th>\n",
       "      <td>246</td>\n",
       "      <td>246</td>\n",
       "      <td>246</td>\n",
       "      <td>246</td>\n",
       "      <td>246</td>\n",
       "      <td>246</td>\n",
       "      <td>246</td>\n",
       "      <td>246</td>\n",
       "      <td>246</td>\n",
       "      <td>246</td>\n",
       "      <td>...</td>\n",
       "      <td>246</td>\n",
       "      <td>246</td>\n",
       "      <td>246</td>\n",
       "      <td>246</td>\n",
       "      <td>246</td>\n",
       "      <td>246</td>\n",
       "      <td>246</td>\n",
       "      <td>246</td>\n",
       "      <td>246</td>\n",
       "      <td>246</td>\n",
       "    </tr>\n",
       "    <tr>\n",
       "      <th>1</th>\n",
       "      <td>4974</td>\n",
       "      <td>4974</td>\n",
       "      <td>4974</td>\n",
       "      <td>4974</td>\n",
       "      <td>4974</td>\n",
       "      <td>4974</td>\n",
       "      <td>4974</td>\n",
       "      <td>4974</td>\n",
       "      <td>4974</td>\n",
       "      <td>4974</td>\n",
       "      <td>...</td>\n",
       "      <td>4974</td>\n",
       "      <td>4974</td>\n",
       "      <td>4974</td>\n",
       "      <td>4974</td>\n",
       "      <td>4974</td>\n",
       "      <td>4974</td>\n",
       "      <td>4974</td>\n",
       "      <td>4974</td>\n",
       "      <td>4974</td>\n",
       "      <td>4974</td>\n",
       "    </tr>\n",
       "    <tr>\n",
       "      <th>2</th>\n",
       "      <td>1277</td>\n",
       "      <td>1277</td>\n",
       "      <td>1277</td>\n",
       "      <td>1277</td>\n",
       "      <td>1277</td>\n",
       "      <td>1277</td>\n",
       "      <td>1277</td>\n",
       "      <td>1277</td>\n",
       "      <td>1277</td>\n",
       "      <td>1277</td>\n",
       "      <td>...</td>\n",
       "      <td>1277</td>\n",
       "      <td>1277</td>\n",
       "      <td>1277</td>\n",
       "      <td>1277</td>\n",
       "      <td>1277</td>\n",
       "      <td>1277</td>\n",
       "      <td>1277</td>\n",
       "      <td>1277</td>\n",
       "      <td>1277</td>\n",
       "      <td>1277</td>\n",
       "    </tr>\n",
       "  </tbody>\n",
       "</table>\n",
       "<p>3 rows × 25 columns</p>\n",
       "</div>"
      ],
      "text/plain": [
       "     fixed acidity  volatile acidity  citric acid  residual sugar  chlorides  \\\n",
       "cat                                                                            \n",
       "0              246               246          246             246        246   \n",
       "1             4974              4974         4974            4974       4974   \n",
       "2             1277              1277         1277            1277       1277   \n",
       "\n",
       "     free sulfur dioxide  total sulfur dioxide  density    pH  sulphates  ...  \\\n",
       "cat                                                                       ...   \n",
       "0                    246                   246      246   246        246  ...   \n",
       "1                   4974                  4974     4974  4974       4974  ...   \n",
       "2                   1277                  1277     1277  1277       1277  ...   \n",
       "\n",
       "     residual sugar_chlorides  residual sugar_total sulfur dioxide  \\\n",
       "cat                                                                  \n",
       "0                         246                                  246   \n",
       "1                        4974                                 4974   \n",
       "2                        1277                                 1277   \n",
       "\n",
       "     chlorides_density  chlorides_sulphates  free sulfur dioxide_sulphates  \\\n",
       "cat                                                                          \n",
       "0                  246                  246                            246   \n",
       "1                 4974                 4974                           4974   \n",
       "2                 1277                 1277                           1277   \n",
       "\n",
       "     total sulfur dioxide_sulphates  density_pH  volatile acidity_alcohol  \\\n",
       "cat                                                                         \n",
       "0                               246         246                       246   \n",
       "1                              4974        4974                      4974   \n",
       "2                              1277        1277                      1277   \n",
       "\n",
       "     quality  type  \n",
       "cat                 \n",
       "0        246   246  \n",
       "1       4974  4974  \n",
       "2       1277  1277  \n",
       "\n",
       "[3 rows x 25 columns]"
      ]
     },
     "execution_count": 1,
     "metadata": {},
     "output_type": "execute_result"
    }
   ],
   "source": [
    "from data_processing import *\n",
    "\n",
    "csv = 'features.csv'\n",
    "d = data_clean(csv)\n",
    "\n",
    "df_mm, num_scale = d.read_scale(csv)\n",
    "X_train, X_test, y_train, y_test = d.split(csv)\n",
    "X_train, X_test, y_train, y_test = d.index(csv)\n",
    "\n",
    "X = num_scale\n",
    "y = df_mm['cat']\n",
    "\n",
    "df_mm.groupby('cat').count()"
   ]
  },
  {
   "cell_type": "markdown",
   "metadata": {},
   "source": [
    "### Balancing the classes"
   ]
  },
  {
   "cell_type": "code",
   "execution_count": 26,
   "metadata": {},
   "outputs": [],
   "source": [
    "col = list(num_scale.columns)\n",
    "\n",
    "from sklearn.utils.class_weight import compute_sample_weight\n",
    "from imblearn.over_sampling import SMOTE\n",
    "import numpy as np\n",
    "\n",
    "smt = SMOTE(sampling_strategy='not majority', k_neighbors=3)\n",
    "X_train_s, y_train_s = smt.fit_sample(np.asarray(X_train), np.asarray(y_train))\n",
    "\n",
    "X_test_s, y_test_s = smt.fit_sample(np.asarray(X_test), np.asarray(y_test))\n",
    "\n",
    "X_test_smote = pd.DataFrame(X_test_s, columns=col)\n",
    "y_test_smote = pd.DataFrame(y_test_s, columns=['cat'])\n",
    "\n",
    "X_train_smote = pd.DataFrame(X_train_s, columns=col)\n",
    "y_train_smote = pd.DataFrame(y_train_s, columns=['cat'])\n",
    "\n",
    "smote_df = X_train_smote.join(y_train_smote)\n",
    "\n",
    "smote_df.groupby('cat').count()"
   ]
  },
  {
   "cell_type": "markdown",
   "metadata": {},
   "source": [
    "### Base Models"
   ]
  },
  {
   "cell_type": "code",
   "execution_count": 49,
   "metadata": {},
   "outputs": [],
   "source": [
    "import pandas as pd\n",
    "import sklearn as sk\n",
    "from sklearn.linear_model import LogisticRegression\n",
    "from sklearn import svm\n",
    "from sklearn.ensemble import RandomForestClassifier\n",
    "from sklearn.neural_network import MLPClassifier\n",
    "from sklearn.metrics import recall_score\n",
    "\n",
    "\n",
    "LR = LogisticRegression(random_state=0, solver='lbfgs', multi_class='multinomial').fit(X_train_smote, y_train_smote)\n",
    "y_logi = LR.predict(X_test)\n",
    "round(LR.score(X_test,y_test), 4)\n",
    "\n",
    "# one to all SVM \n",
    "SVM = svm.SVC(decision_function_shape=\"ovr\").fit(X_train_smote, y_train_smote)\n",
    "y_sv = SVM.predict(X_test)\n",
    "round(SVM.score(X_test, y_test), 4)\n",
    "\n",
    "\n",
    "# one to one SVM\n",
    "\n",
    "SVM = svm.SVC(decision_function_shape=\"ovo\").fit(X_train_smote, y_train_smote)\n",
    "y_svo = SVM.predict(X_test)\n",
    "round(SVM.score(X_test, y_test), 4)\n",
    "\n",
    "\n",
    "# Random Forest\n",
    "\n",
    "RF = RandomForestClassifier(n_estimators=1000, max_depth=10, random_state=0).fit(X_train_smote, y_train_smote)\n",
    "y_rf = RF.predict(X_test)\n",
    "round(RF.score(X_test_smote, y_test_smote), 4)\n",
    "\n",
    "\n",
    "NN = MLPClassifier(solver='lbfgs', alpha=1e-5, activation='tanh', hidden_layer_sizes=(150, 10), random_state=1).fit(X_train_smote, y_train_smote)\n",
    "y_pred = NN.predict(X_test)\n",
    "round(NN.score(X_test_smote, y_test_smote), 4)\n",
    "\n",
    "\n",
    "\n",
    "### Metrics Valuation\n",
    "\n",
    "from sklearn import metrics\n",
    "from sklearn.metrics import classification_report, precision_score, recall_score, accuracy_score, f1_score, confusion_matrix\n",
    "\n",
    "print('Accuracy:', round(accuracy_score(y_test, y_rf), 3))\n",
    "print('Precision:', round(metrics.precision_score(y_test, y_rf, average='weighted'),3))\n",
    "print('Recall:', round(recall_score(y_test,y_rf, average='weighted'),3))\n",
    "print(classification_report(y_test, y_rf))\n",
    "\n",
    "from sklearn import metrics\n",
    "cnf_matrix = metrics.confusion_matrix(y_test_smote, y_pred)\n",
    "cnf_matrix\n",
    "\n",
    "\n",
    "\n",
    "import matplotlib.pyplot as plt\n",
    "import seaborn as sns\n",
    "\n",
    "class_names=['bad','average','good'] # name  of classes\n",
    "fig, ax = plt.subplots()\n",
    "tick_marks = np.arange(len(class_names))\n",
    "plt.xticks(tick_marks, class_names)\n",
    "plt.yticks(tick_marks, class_names)\n",
    "# create heatmap\n",
    "sns.heatmap(pd.DataFrame(cnf_matrix), annot=True, cmap='Blues' ,fmt='g')\n",
    "ax.xaxis.set_label_position(\"top\")\n",
    "plt.tight_layout()\n",
    "plt.title('Confusion matrix', y=1.1)\n",
    "plt.ylabel('Actual label')\n",
    "plt.xlabel('Predicted label')"
   ]
  },
  {
   "cell_type": "markdown",
   "metadata": {},
   "source": [
    "### Classifiers Without Interactions"
   ]
  },
  {
   "cell_type": "code",
   "execution_count": 6,
   "metadata": {},
   "outputs": [
    {
     "data": {
      "text/plain": [
       "cat\n",
       "0     246\n",
       "1    4974\n",
       "2    1277\n",
       "Name: type, dtype: int64"
      ]
     },
     "execution_count": 6,
     "metadata": {},
     "output_type": "execute_result"
    }
   ],
   "source": [
    "from data_processing import *\n",
    "\n",
    "csv = 'data.csv'\n",
    "d = data_clean(csv)\n",
    "\n",
    "df_mm, num_scale = d.read_scale(csv)\n",
    "X_train, X_test, y_train, y_test = d.split(csv)\n",
    "X_train, X_test, y_train, y_test = d.index(csv)\n",
    "\n",
    "X = num_scale\n",
    "y = df_mm['cat']\n",
    "\n",
    "df_mm.groupby('cat').count().iloc[:,-1]"
   ]
  },
  {
   "cell_type": "markdown",
   "metadata": {},
   "source": [
    "### Balancing the classes: SMOTE"
   ]
  },
  {
   "cell_type": "code",
   "execution_count": 9,
   "metadata": {},
   "outputs": [
    {
     "data": {
      "text/plain": [
       "cat\n",
       "0    3982\n",
       "1    3982\n",
       "2    3982\n",
       "Name: fixed acidity, dtype: int64"
      ]
     },
     "execution_count": 9,
     "metadata": {},
     "output_type": "execute_result"
    }
   ],
   "source": [
    "col = list(num_scale.columns)\n",
    "\n",
    "from sklearn.utils.class_weight import compute_sample_weight\n",
    "from imblearn.over_sampling import SMOTE\n",
    "import numpy as np\n",
    "\n",
    "smt = SMOTE(sampling_strategy='not majority', k_neighbors=3)\n",
    "X_train_s, y_train_s = smt.fit_sample(np.asarray(X_train), np.asarray(y_train))\n",
    "\n",
    "X_test_s, y_test_s = smt.fit_sample(np.asarray(X_test), np.asarray(y_test))\n",
    "\n",
    "X_test_smote = pd.DataFrame(X_test_s, columns=col)\n",
    "y_test_smote = pd.DataFrame(y_test_s, columns=['cat'])\n",
    "\n",
    "X_train_smote = pd.DataFrame(X_train_s, columns=col)\n",
    "y_train_smote = pd.DataFrame(y_train_s, columns=['cat'])\n",
    "\n",
    "smote_df = X_train_smote.join(y_train_smote)\n",
    "\n",
    "smote_df.groupby('cat').count().iloc[:,0]"
   ]
  },
  {
   "cell_type": "markdown",
   "metadata": {},
   "source": [
    "### Modelling"
   ]
  },
  {
   "cell_type": "code",
   "execution_count": null,
   "metadata": {},
   "outputs": [],
   "source": [
    "import pandas as pd\n",
    "import sklearn as sk\n",
    "from sklearn.linear_model import LogisticRegression\n",
    "from sklearn import svm\n",
    "from sklearn.ensemble import RandomForestClassifier\n",
    "from sklearn.neural_network import MLPClassifier\n",
    "from sklearn.metrics import recall_score"
   ]
  },
  {
   "cell_type": "code",
   "execution_count": 12,
   "metadata": {},
   "outputs": [
    {
     "name": "stdout",
     "output_type": "stream",
     "text": [
      "Logistic Regression Score: 0.5277\n"
     ]
    },
    {
     "name": "stderr",
     "output_type": "stream",
     "text": [
      "/Users/flatironschool/anaconda3/lib/python3.7/site-packages/sklearn/utils/validation.py:760: DataConversionWarning: A column-vector y was passed when a 1d array was expected. Please change the shape of y to (n_samples, ), for example using ravel().\n",
      "  y = column_or_1d(y, warn=True)\n"
     ]
    }
   ],
   "source": [
    "# Logistic Regression\n",
    "LR = LogisticRegression(random_state=0, solver='lbfgs', multi_class='multinomial').fit(X_train_smote, y_train_smote)\n",
    "y_logi = LR.predict(X_test)\n",
    "print('Logistic Regression Score:',round(LR.score(X_test,y_test), 4))"
   ]
  },
  {
   "cell_type": "code",
   "execution_count": 13,
   "metadata": {},
   "outputs": [
    {
     "name": "stderr",
     "output_type": "stream",
     "text": [
      "/Users/flatironschool/anaconda3/lib/python3.7/site-packages/sklearn/utils/validation.py:760: DataConversionWarning: A column-vector y was passed when a 1d array was expected. Please change the shape of y to (n_samples, ), for example using ravel().\n",
      "  y = column_or_1d(y, warn=True)\n"
     ]
    },
    {
     "name": "stdout",
     "output_type": "stream",
     "text": [
      "SVM one to many Score: 0.6415\n"
     ]
    }
   ],
   "source": [
    "# one to all SVM \n",
    "SVM = svm.SVC(decision_function_shape=\"ovr\").fit(X_train_smote, y_train_smote)\n",
    "y_sv = SVM.predict(X_test)\n",
    "print('SVM one to many Score:',round(SVM.score(X_test, y_test), 4))"
   ]
  },
  {
   "cell_type": "code",
   "execution_count": 14,
   "metadata": {},
   "outputs": [
    {
     "name": "stderr",
     "output_type": "stream",
     "text": [
      "/Users/flatironschool/anaconda3/lib/python3.7/site-packages/sklearn/utils/validation.py:760: DataConversionWarning: A column-vector y was passed when a 1d array was expected. Please change the shape of y to (n_samples, ), for example using ravel().\n",
      "  y = column_or_1d(y, warn=True)\n"
     ]
    },
    {
     "name": "stdout",
     "output_type": "stream",
     "text": [
      "SVM one to one Score: 0.6415\n"
     ]
    }
   ],
   "source": [
    "# one to one SVM\n",
    "\n",
    "SVM = svm.SVC(decision_function_shape=\"ovo\").fit(X_train_smote, y_train_smote)\n",
    "y_svo = SVM.predict(X_test)\n",
    "print('SVM one to one Score:',round(SVM.score(X_test, y_test), 4))\n"
   ]
  },
  {
   "cell_type": "code",
   "execution_count": 15,
   "metadata": {},
   "outputs": [
    {
     "name": "stderr",
     "output_type": "stream",
     "text": [
      "/Users/flatironschool/anaconda3/lib/python3.7/site-packages/ipykernel_launcher.py:3: DataConversionWarning: A column-vector y was passed when a 1d array was expected. Please change the shape of y to (n_samples,), for example using ravel().\n",
      "  This is separate from the ipykernel package so we can avoid doing imports until\n"
     ]
    },
    {
     "name": "stdout",
     "output_type": "stream",
     "text": [
      "Random Forest Score: 0.7154\n"
     ]
    }
   ],
   "source": [
    "# Random Forest\n",
    "\n",
    "RF = RandomForestClassifier(n_estimators=1000, max_depth=10, random_state=0).fit(X_train_smote, y_train_smote)\n",
    "y_rf = RF.predict(X_test)\n",
    "print('Random Forest Score:',round(RF.score(X_test_smote, y_test_smote), 4))\n"
   ]
  },
  {
   "cell_type": "code",
   "execution_count": null,
   "metadata": {},
   "outputs": [],
   "source": [
    "# Neural Networks\n",
    "\n",
    "NN = MLPClassifier(solver='lbfgs', alpha=1e-5, activation='tanh', hidden_layer_sizes=(150, 10), random_state=1).fit(X_train_smote, y_train_smote)\n",
    "y_pred = NN.predict(X_test)\n",
    "print('NN Score:',round(NN.score(X_test_smote, y_test_smote), 4))"
   ]
  },
  {
   "cell_type": "code",
   "execution_count": 17,
   "metadata": {},
   "outputs": [
    {
     "name": "stdout",
     "output_type": "stream",
     "text": [
      "Accuracy: 0.777\n",
      "Precision: 0.822\n",
      "Recall: 0.777\n",
      "              precision    recall  f1-score   support\n",
      "\n",
      "           0       0.31      0.47      0.38        55\n",
      "           1       0.92      0.78      0.84       992\n",
      "           2       0.56      0.82      0.67       253\n",
      "\n",
      "    accuracy                           0.78      1300\n",
      "   macro avg       0.60      0.69      0.63      1300\n",
      "weighted avg       0.82      0.78      0.79      1300\n",
      "\n"
     ]
    },
    {
     "data": {
      "text/plain": [
       "Text(0.5, 257.44, 'Predicted label')"
      ]
     },
     "execution_count": 17,
     "metadata": {},
     "output_type": "execute_result"
    },
    {
     "data": {
      "image/png": "[encoded data removed]",
      "text/plain": [
       "<Figure size 432x288 with 2 Axes>"
      ]
     },
     "metadata": {
      "needs_background": "light"
     },
     "output_type": "display_data"
    }
   ],
   "source": [
    "### Metrics Valuation\n",
    "\n",
    "from sklearn import metrics\n",
    "from sklearn.metrics import classification_report, precision_score, recall_score, accuracy_score, f1_score, confusion_matrix\n",
    "\n",
    "print('Accuracy:', round(accuracy_score(y_test, y_rf), 3))\n",
    "print('Precision:', round(metrics.precision_score(y_test, y_rf, average='weighted'),3))\n",
    "print('Recall:', round(recall_score(y_test,y_rf, average='weighted'),3))\n",
    "print(classification_report(y_test, y_rf))\n",
    "\n",
    "from sklearn import metrics\n",
    "cnf_matrix = metrics.confusion_matrix(y_test, y_pred)\n",
    "\n",
    "\n",
    "import matplotlib.pyplot as plt\n",
    "import seaborn as sns\n",
    "\n",
    "class_names=['bad','average','good'] # name  of classes\n",
    "fig, ax = plt.subplots()\n",
    "tick_marks = np.arange(len(class_names))\n",
    "plt.xticks(tick_marks, class_names)\n",
    "plt.yticks(tick_marks, class_names)\n",
    "# create heatmap\n",
    "sns.heatmap(pd.DataFrame(cnf_matrix), annot=True, cmap='Blues' ,fmt='g')\n",
    "ax.xaxis.set_label_position(\"top\")\n",
    "plt.tight_layout()\n",
    "plt.title('Confusion matrix', y=1.1)\n",
    "plt.ylabel('Actual label')\n",
    "plt.xlabel('Predicted label')"
   ]
  },
  {
   "cell_type": "code",
   "execution_count": null,
   "metadata": {},
   "outputs": [],
   "source": []
  }
 ],
 "metadata": {
  "kernelspec": {
   "display_name": "Python 3",
   "language": "python",
   "name": "python3"
  },
  "language_info": {
   "codemirror_mode": {
    "name": "ipython",
    "version": 3
   },
   "file_extension": ".py",
   "mimetype": "text/x-python",
   "name": "python",
   "nbconvert_exporter": "python",
   "pygments_lexer": "ipython3",
   "version": "3.7.3"
  }
 },
 "nbformat": 4,
 "nbformat_minor": 4
}
