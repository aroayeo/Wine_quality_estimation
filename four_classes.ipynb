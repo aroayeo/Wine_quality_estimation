{
 "cells": [
  {
   "cell_type": "markdown",
   "metadata": {},
   "source": [
    "### Data Processing and PCA"
   ]
  },
  {
   "cell_type": "code",
   "execution_count": 8,
   "metadata": {},
   "outputs": [],
   "source": [
    "from define_classes import *\n",
    "from data_processing import *\n",
    "from pca import *\n",
    "from csv_clean import *\n",
    "from polynomial_regression import *"
   ]
  },
  {
   "cell_type": "markdown",
   "metadata": {},
   "source": [
    "### Mergind and classifying data for red and white wines"
   ]
  },
  {
   "cell_type": "code",
   "execution_count": 50,
   "metadata": {},
   "outputs": [
    {
     "name": "stdout",
     "output_type": "stream",
     "text": [
      "Class 0 is white.csv values. Class 1 is red.csv values\n"
     ]
    }
   ],
   "source": [
    "csv1 = 'white.csv'\n",
    "csv2 = 'red.csv'\n",
    "c = CleanCsv(csv1,csv2)\n",
    "data = c.merge_csv(csv1,csv2)"
   ]
  },
  {
   "cell_type": "markdown",
   "metadata": {},
   "source": [
    "### Setting the number of classes for different wine quality points threshold"
   ]
  },
  {
   "cell_type": "code",
   "execution_count": 51,
   "metadata": {},
   "outputs": [
    {
     "name": "stdout",
     "output_type": "stream",
     "text": [
      "Possible thresdholds for classification: [3 4 5 6 7 8 9]\n"
     ]
    }
   ],
   "source": [
    "data = pd.read_csv('data.csv', index_col=0)\n",
    "print('Possible thresdholds for classification:',np.sort(data['quality'].unique()))"
   ]
  },
  {
   "cell_type": "code",
   "execution_count": 53,
   "metadata": {},
   "outputs": [],
   "source": [
    "target = 'cat'\n",
    "n_c = 4 # bad, average, good wine\n",
    "thres = [4,6,7,8]\n",
    "value = 'quality'"
   ]
  },
  {
   "cell_type": "code",
   "execution_count": 54,
   "metadata": {},
   "outputs": [],
   "source": [
    "if n_c==2:\n",
    "            data[target] = data[value].apply(lambda x: 0 if x<=thres[0] else 1).astype('int')\n",
    "elif n_c==3:\n",
    "            data[target] = data[value].apply(lambda x: 0 if x<=thres[0] else (1 if x <=thres[1] else 2)).astype('int')\n",
    "elif n_c==4:\n",
    "            data[target] = data[value].apply(lambda x: 0 if x<=thres[0] else (1 if x <=thres[1] else(2 if x <=thres[2]  else (3)))).astype('int')\n",
    "\n",
    "# Re-write the data csv to update the classes or create a new csv with different classes\n",
    "data.to_csv('data.csv')"
   ]
  },
  {
   "cell_type": "code",
   "execution_count": 55,
   "metadata": {},
   "outputs": [
    {
     "data": {
      "text/plain": [
       "1    4974\n",
       "2    1079\n",
       "0     246\n",
       "3     198\n",
       "Name: cat, dtype: int64"
      ]
     },
     "execution_count": 55,
     "metadata": {},
     "output_type": "execute_result"
    }
   ],
   "source": [
    "data['cat'].value_counts()"
   ]
  },
  {
   "cell_type": "markdown",
   "metadata": {},
   "source": [
    "#### We can see a large inbalance in the very good(class 3) and bad wines (class 0)"
   ]
  },
  {
   "cell_type": "code",
   "execution_count": 86,
   "metadata": {},
   "outputs": [],
   "source": [
    "from sklearn import datasets, metrics\n",
    "from sklearn.utils.class_weight import compute_sample_weight\n",
    "from imblearn.over_sampling import SMOTE\n",
    "from sklearn.linear_model import LogisticRegression\n",
    "from sklearn.tree import DecisionTreeClassifier\n",
    "from sklearn import svm\n",
    "from sklearn.ensemble import RandomForestClassifier, RandomForestRegressor\n",
    "from sklearn.neural_network import MLPClassifier\n",
    "from sklearn.metrics import recall_score, classification_report, accuracy_score, precision_score\n",
    "from ordinal import *\n",
    "import numpy as np\n",
    "from sklearn.model_selection import cross_val_score, GridSearchCV\n",
    "from sklearn.svm import SVC\n",
    "from sklearn.linear_model import LogisticRegression\n"
   ]
  },
  {
   "cell_type": "code",
   "execution_count": 15,
   "metadata": {},
   "outputs": [],
   "source": [
    "# Splitting Data\n",
    "\n",
    "csv = 'data.csv'\n",
    "d = DataClean(csv)\n",
    "df_mm, num_scale = d.read_scale(csv)\n",
    "X_train, X_test, y_train, y_test = d.index(csv)"
   ]
  },
  {
   "cell_type": "markdown",
   "metadata": {},
   "source": [
    "### Balancing the Classes : SMOTE"
   ]
  },
  {
   "cell_type": "code",
   "execution_count": 16,
   "metadata": {},
   "outputs": [
    {
     "data": {
      "text/plain": [
       "cat\n",
       "0    3982\n",
       "1    3982\n",
       "2    3982\n",
       "3    3982\n",
       "Name: fixed acidity, dtype: int64"
      ]
     },
     "execution_count": 16,
     "metadata": {},
     "output_type": "execute_result"
    }
   ],
   "source": [
    "smt = SMOTE(sampling_strategy='not majority', k_neighbors=3)\n",
    "X_train_s, y_train_s = smt.fit_sample(np.asarray(X_train), np.asarray(y_train))\n",
    "\n",
    "X_test_s, y_test_s = smt.fit_sample(np.asarray(X_test), np.asarray(y_test))\n",
    "col = list(num_scale.columns)\n",
    "# X_test_smote = pd.DataFrame(X_test_s, columns=col)\n",
    "# y_test_smote = pd.DataFrame(y_test_s, columns=['cat'])\n",
    "\n",
    "X_train_smote = pd.DataFrame(X_train_s, columns=col)\n",
    "y_train_smote = pd.DataFrame(y_train_s, columns=['cat'])\n",
    "\n",
    "smote_df = X_train_smote.join(y_train_smote)\n",
    "\n",
    "smote_df.groupby('cat').count().iloc[:,0]"
   ]
  },
  {
   "cell_type": "markdown",
   "metadata": {},
   "source": [
    "# Performance Comparison: All Features - 4 Classes"
   ]
  },
  {
   "cell_type": "markdown",
   "metadata": {},
   "source": [
    "### Ordinal Classification "
   ]
  },
  {
   "cell_type": "markdown",
   "metadata": {},
   "source": [
    "Ordinal variables are those whose value exists on an arbitrary scale where only the relative ordering between different values is significant. In our case 0 to 3 is the order definining the incremental quality of wine. Therefore the estimation should take into account that our variables are 'order-dependent'.    \n",
    "A way to tackle this type of classes (ordered) is using the 'OrdinalClassifier' class available for python in GitHub. This will create binary vectors for each class. This can be applied to classifiers that generate classes probability, or in python what we know as 'predict_proba'"
   ]
  },
  {
   "cell_type": "code",
   "execution_count": 17,
   "metadata": {},
   "outputs": [],
   "source": [
    "clf = OrdinalClassifier(RandomForestClassifier(max_depth=9, class_weight='balanced'))"
   ]
  },
  {
   "cell_type": "code",
   "execution_count": 18,
   "metadata": {},
   "outputs": [
    {
     "name": "stderr",
     "output_type": "stream",
     "text": [
      "/Users/flatironschool/Documents/Final Project/Final_project/ordinal.py:18: DataConversionWarning: A column-vector y was passed when a 1d array was expected. Please change the shape of y to (n_samples,), for example using ravel().\n",
      "  clf.fit(X, binary_y)\n",
      "/Users/flatironschool/Documents/Final Project/Final_project/ordinal.py:18: DataConversionWarning: A column-vector y was passed when a 1d array was expected. Please change the shape of y to (n_samples,), for example using ravel().\n",
      "  clf.fit(X, binary_y)\n",
      "/Users/flatironschool/Documents/Final Project/Final_project/ordinal.py:18: DataConversionWarning: A column-vector y was passed when a 1d array was expected. Please change the shape of y to (n_samples,), for example using ravel().\n",
      "  clf.fit(X, binary_y)\n"
     ]
    }
   ],
   "source": [
    "clf.fit(X_train_smote, y_train_smote)"
   ]
  },
  {
   "cell_type": "code",
   "execution_count": 19,
   "metadata": {},
   "outputs": [
    {
     "name": "stdout",
     "output_type": "stream",
     "text": [
      "              precision    recall  f1-score   support\n",
      "\n",
      "           0       0.13      0.71      0.22        55\n",
      "           1       0.91      0.56      0.70       992\n",
      "           2       0.51      0.39      0.44       211\n",
      "           3       0.14      0.76      0.24        42\n",
      "\n",
      "    accuracy                           0.55      1300\n",
      "   macro avg       0.42      0.61      0.40      1300\n",
      "weighted avg       0.79      0.55      0.62      1300\n",
      "\n"
     ]
    }
   ],
   "source": [
    "y_pred = clf.predict(X_test)\n",
    "print(classification_report(y_test, y_pred))"
   ]
  },
  {
   "cell_type": "markdown",
   "metadata": {},
   "source": [
    "### Logistic Regression for multiclass"
   ]
  },
  {
   "cell_type": "code",
   "execution_count": 20,
   "metadata": {},
   "outputs": [
    {
     "name": "stderr",
     "output_type": "stream",
     "text": [
      "/Users/flatironschool/anaconda3/lib/python3.7/site-packages/sklearn/utils/validation.py:760: DataConversionWarning: A column-vector y was passed when a 1d array was expected. Please change the shape of y to (n_samples, ), for example using ravel().\n",
      "  y = column_or_1d(y, warn=True)\n"
     ]
    },
    {
     "name": "stdout",
     "output_type": "stream",
     "text": [
      "              precision    recall  f1-score   support\n",
      "\n",
      "           0       0.13      0.69      0.21        55\n",
      "           1       0.88      0.41      0.56       992\n",
      "           2       0.28      0.34      0.31       211\n",
      "           3       0.10      0.67      0.17        42\n",
      "\n",
      "    accuracy                           0.42      1300\n",
      "   macro avg       0.35      0.53      0.31      1300\n",
      "weighted avg       0.73      0.42      0.49      1300\n",
      "\n",
      "0.4162\n"
     ]
    }
   ],
   "source": [
    "logit = LogisticRegression(C =1e9 ,solver='newton-cg',fit_intercept=True, multi_class='multinomial',)\n",
    "\n",
    "model = logit.fit(X_train_smote,y_train_smote)\n",
    "model.intercept_, model.coef_\n",
    "y_log = model.predict(X_test)\n",
    "print(classification_report(y_test, y_log))\n",
    "print(round(logit.score(X_test,y_test), 4))"
   ]
  },
  {
   "cell_type": "markdown",
   "metadata": {},
   "source": [
    "#### Very little predictive power for three out of four classes"
   ]
  },
  {
   "cell_type": "markdown",
   "metadata": {},
   "source": [
    "### Baseline Model: Decission Tree"
   ]
  },
  {
   "cell_type": "code",
   "execution_count": 21,
   "metadata": {},
   "outputs": [
    {
     "name": "stdout",
     "output_type": "stream",
     "text": [
      "              precision    recall  f1-score   support\n",
      "\n",
      "           0       0.21      0.29      0.24        55\n",
      "           1       0.88      0.79      0.83       992\n",
      "           2       0.49      0.59      0.53       211\n",
      "           3       0.27      0.48      0.35        42\n",
      "\n",
      "    accuracy                           0.73      1300\n",
      "   macro avg       0.46      0.54      0.49      1300\n",
      "weighted avg       0.77      0.73      0.74      1300\n",
      "\n",
      "0.727\n"
     ]
    }
   ],
   "source": [
    "dt = DecisionTreeClassifier(criterion='entropy', class_weight='balanced')\n",
    "dt_model = dt.fit(X_train_smote, y_train_smote)\n",
    "y_test_hat = dt_model.predict(X_test)\n",
    "\n",
    "print(classification_report(y_test, y_test_hat))\n",
    "# precision and recall are very similar\n",
    "print(round(accuracy_score(y_test, y_test_hat), 3))"
   ]
  },
  {
   "cell_type": "code",
   "execution_count": 22,
   "metadata": {},
   "outputs": [
    {
     "data": {
      "text/plain": [
       "<BarContainer object of 5 artists>"
      ]
     },
     "execution_count": 22,
     "metadata": {},
     "output_type": "execute_result"
    },
    {
     "data": {
      "image/png": "[encoded data removed]",
      "text/plain": [
       "<Figure size 576x360 with 1 Axes>"
      ]
     },
     "metadata": {
      "needs_background": "light"
     },
     "output_type": "display_data"
    }
   ],
   "source": [
    "dt_feature_importance = [(X_train.columns[i[0]], i[1]) for i in list(enumerate(dt_model.feature_importances_))]\n",
    "dt_feature_importance = sorted(dt_feature_importance, key = lambda x: x[1], reverse = False)[:5]\n",
    "fig = plt.figure(figsize = (8,5))\n",
    "plt.bar([i[0] for i in dt_feature_importance], [i[1] for i in dt_feature_importance], color='skyblue')"
   ]
  },
  {
   "cell_type": "code",
   "execution_count": 23,
   "metadata": {},
   "outputs": [
    {
     "data": {
      "image/png": "[encoded data removed]",
      "text/plain": [
       "<Figure size 576x360 with 1 Axes>"
      ]
     },
     "metadata": {
      "needs_background": "light"
     },
     "output_type": "display_data"
    }
   ],
   "source": [
    "train_accuracy_scores = []\n",
    "test_accuracy_scores = []\n",
    "depths = list(range(1,13))\n",
    "for i in depths:\n",
    "    dt_n = DecisionTreeClassifier(max_depth = i)\n",
    "    model_n = dt_n.fit(X_train_smote, y_train_smote)\n",
    "    y_train_hat = model_n.predict(X_train_smote)\n",
    "    y_test_hat = model_n.predict(X_test)\n",
    "    train_accuracy_scores.append(accuracy_score(y_train_smote, y_train_hat))\n",
    "    test_accuracy_scores.append(accuracy_score(y_test, y_test_hat))\n",
    "fig = plt.figure(figsize = (8,5))\n",
    "plt.plot(depths, train_accuracy_scores);\n",
    "plt.plot(depths, test_accuracy_scores);\n",
    "# 7 to 10 is an appropriate range for tree depth"
   ]
  },
  {
   "cell_type": "markdown",
   "metadata": {},
   "source": [
    "#### GridSearch CV"
   ]
  },
  {
   "cell_type": "code",
   "execution_count": 24,
   "metadata": {},
   "outputs": [],
   "source": [
    "dt_params = {'criterion': ['gini', 'entropy'], 'max_depth': list(range(3,12))}\n",
    "dt_gs = GridSearchCV(dt, dt_params, cv = 8, scoring = 'roc_auc_ovr' )\n",
    "dt_model_gs = dt_gs.fit(X_train_smote, y_train_smote)\n",
    "y_test_hat = dt_model_gs.predict(X_test)"
   ]
  },
  {
   "cell_type": "code",
   "execution_count": 25,
   "metadata": {},
   "outputs": [
    {
     "data": {
      "text/plain": [
       "{'criterion': 'entropy', 'max_depth': 11}"
      ]
     },
     "execution_count": 25,
     "metadata": {},
     "output_type": "execute_result"
    }
   ],
   "source": [
    "dt_model_gs.best_params_"
   ]
  },
  {
   "cell_type": "code",
   "execution_count": 26,
   "metadata": {},
   "outputs": [
    {
     "name": "stdout",
     "output_type": "stream",
     "text": [
      "              precision    recall  f1-score   support\n",
      "\n",
      "           0       0.21      0.29      0.24        55\n",
      "           1       0.88      0.79      0.83       992\n",
      "           2       0.49      0.59      0.53       211\n",
      "           3       0.27      0.48      0.35        42\n",
      "\n",
      "    accuracy                           0.73      1300\n",
      "   macro avg       0.46      0.54      0.49      1300\n",
      "weighted avg       0.77      0.73      0.74      1300\n",
      "\n",
      "0.727\n"
     ]
    }
   ],
   "source": [
    "dt = DecisionTreeClassifier(criterion='entropy', max_depth=11, class_weight='balanced')\n",
    "dt_model_cv = dt.fit(X_train_smote, y_train_smote)\n",
    "y_test_hat = dt_model.predict(X_test)\n",
    "\n",
    "print(classification_report(y_test, y_test_hat))\n",
    "# precision and recall are very similar\n",
    "print(round(accuracy_score(y_test, y_test_hat), 3))"
   ]
  },
  {
   "cell_type": "code",
   "execution_count": 27,
   "metadata": {},
   "outputs": [
    {
     "data": {
      "text/plain": [
       "<BarContainer object of 5 artists>"
      ]
     },
     "execution_count": 27,
     "metadata": {},
     "output_type": "execute_result"
    },
    {
     "data": {
      "image/png": "[encoded data removed]",
      "text/plain": [
       "<Figure size 576x360 with 1 Axes>"
      ]
     },
     "metadata": {
      "needs_background": "light"
     },
     "output_type": "display_data"
    }
   ],
   "source": [
    "dt_feature_importance = [(X_train.columns[i[0]], i[1]) for i in list(enumerate(dt_model_cv.feature_importances_))]\n",
    "dt_feature_importance = sorted(dt_feature_importance, key = lambda x: x[1], reverse = False)[:5]\n",
    "fig = plt.figure(figsize = (8,5))\n",
    "plt.bar([i[0] for i in dt_feature_importance], [i[1] for i in dt_feature_importance], color='skyblue')"
   ]
  },
  {
   "cell_type": "markdown",
   "metadata": {},
   "source": [
    "### SVM using calss_weight instead of SMOTE balancing"
   ]
  },
  {
   "cell_type": "code",
   "execution_count": 28,
   "metadata": {},
   "outputs": [
    {
     "name": "stdout",
     "output_type": "stream",
     "text": [
      "              precision    recall  f1-score   support\n",
      "\n",
      "           0       0.13      0.65      0.22        55\n",
      "           1       0.89      0.45      0.60       992\n",
      "           2       0.29      0.36      0.32       211\n",
      "           3       0.11      0.67      0.18        42\n",
      "\n",
      "    accuracy                           0.45      1300\n",
      "   macro avg       0.36      0.53      0.33      1300\n",
      "weighted avg       0.74      0.45      0.52      1300\n",
      "\n",
      "0.45\n"
     ]
    }
   ],
   "source": [
    "# Create support vector classifier\n",
    "\n",
    "svc = SVC(kernel=\"linear\", class_weight=\"balanced\", C=1.0, random_state=0) # Train classifier\n",
    "sv_model = svc.fit(X_train, y_train)\n",
    "\n",
    "y_sv = sv_model.predict(X_test)\n",
    "print(classification_report(y_test, y_sv))\n",
    "print(round(accuracy_score(y_test, y_sv), 3))"
   ]
  },
  {
   "cell_type": "markdown",
   "metadata": {},
   "source": [
    "### SVM with SMOTE balancing"
   ]
  },
  {
   "cell_type": "code",
   "execution_count": 29,
   "metadata": {},
   "outputs": [
    {
     "name": "stderr",
     "output_type": "stream",
     "text": [
      "/Users/flatironschool/anaconda3/lib/python3.7/site-packages/sklearn/utils/validation.py:760: DataConversionWarning: A column-vector y was passed when a 1d array was expected. Please change the shape of y to (n_samples, ), for example using ravel().\n",
      "  y = column_or_1d(y, warn=True)\n"
     ]
    },
    {
     "name": "stdout",
     "output_type": "stream",
     "text": [
      "              precision    recall  f1-score   support\n",
      "\n",
      "           0       0.13      0.71      0.22        55\n",
      "           1       0.89      0.43      0.58       992\n",
      "           2       0.30      0.35      0.32       211\n",
      "           3       0.10      0.67      0.18        42\n",
      "\n",
      "    accuracy                           0.44      1300\n",
      "   macro avg       0.35      0.54      0.32      1300\n",
      "weighted avg       0.73      0.44      0.51      1300\n",
      "\n",
      "0.435\n"
     ]
    }
   ],
   "source": [
    "# Create support vector classifier\n",
    "\n",
    "svc = SVC(kernel=\"linear\", class_weight=\"balanced\", C=1.0, random_state=0) # Train classifier\n",
    "sv_model = svc.fit(X_train_smote, y_train_smote)\n",
    "\n",
    "y_sv = sv_model.predict(X_test)\n",
    "print(classification_report(y_test, y_sv))\n",
    "print(round(accuracy_score(y_test, y_sv), 3))"
   ]
  },
  {
   "cell_type": "code",
   "execution_count": 30,
   "metadata": {},
   "outputs": [
    {
     "name": "stdout",
     "output_type": "stream",
     "text": [
      "{'C': 1.0, 'break_ties': False, 'cache_size': 200, 'class_weight': 'balanced', 'coef0': 0.0, 'decision_function_shape': 'ovr', 'degree': 3, 'gamma': 'scale', 'kernel': 'linear', 'max_iter': -1, 'probability': False, 'random_state': 0, 'shrinking': True, 'tol': 0.001, 'verbose': False}\n"
     ]
    }
   ],
   "source": [
    "print(svc.get_params())"
   ]
  },
  {
   "cell_type": "markdown",
   "metadata": {},
   "source": [
    "### Random Forest"
   ]
  },
  {
   "cell_type": "markdown",
   "metadata": {},
   "source": [
    "##### Finding Best Parameters"
   ]
  },
  {
   "cell_type": "code",
   "execution_count": 31,
   "metadata": {},
   "outputs": [
    {
     "name": "stderr",
     "output_type": "stream",
     "text": [
      "/Users/flatironschool/anaconda3/lib/python3.7/site-packages/ipykernel_launcher.py:1: DataConversionWarning: A column-vector y was passed when a 1d array was expected. Please change the shape of y to (n_samples,), for example using ravel().\n",
      "  \"\"\"Entry point for launching an IPython kernel.\n"
     ]
    }
   ],
   "source": [
    "RF = RandomForestClassifier(n_estimators=1000, max_depth=12, random_state=0).fit(X_train_smote, y_train_smote)\n",
    "y_rf = RF.predict(X_test)"
   ]
  },
  {
   "cell_type": "code",
   "execution_count": 32,
   "metadata": {},
   "outputs": [
    {
     "name": "stdout",
     "output_type": "stream",
     "text": [
      "0.7654\n",
      "              precision    recall  f1-score   support\n",
      "\n",
      "           0       0.13      0.71      0.22        55\n",
      "           1       0.89      0.43      0.58       992\n",
      "           2       0.30      0.35      0.32       211\n",
      "           3       0.10      0.67      0.18        42\n",
      "\n",
      "    accuracy                           0.44      1300\n",
      "   macro avg       0.35      0.54      0.32      1300\n",
      "weighted avg       0.73      0.44      0.51      1300\n",
      "\n"
     ]
    }
   ],
   "source": [
    "print(round(RF.score(X_test, y_test), 4))\n",
    "print(classification_report(y_test, y_sv))"
   ]
  },
  {
   "cell_type": "code",
   "execution_count": 33,
   "metadata": {},
   "outputs": [
    {
     "data": {
      "text/plain": [
       "<BarContainer object of 5 artists>"
      ]
     },
     "execution_count": 33,
     "metadata": {},
     "output_type": "execute_result"
    },
    {
     "data": {
      "image/png": "[encoded data removed]",
      "text/plain": [
       "<Figure size 576x360 with 1 Axes>"
      ]
     },
     "metadata": {
      "needs_background": "light"
     },
     "output_type": "display_data"
    }
   ],
   "source": [
    "dt_feature_importance = [(X_train.columns[i[0]], i[1]) for i in list(enumerate(RF.feature_importances_))]\n",
    "dt_feature_importance = sorted(dt_feature_importance, key = lambda x: x[1], reverse = False)[:5]\n",
    "fig = plt.figure(figsize = (8,5))\n",
    "plt.bar([i[0] for i in dt_feature_importance], [i[1] for i in dt_feature_importance], color='darkblue')"
   ]
  },
  {
   "cell_type": "code",
   "execution_count": 34,
   "metadata": {},
   "outputs": [],
   "source": [
    "# rf_params = {'criterion': ['gini', 'entropy'], 'max_depth': list(range(9,12)), 'min_samples_split': [2]}\n",
    "# rf_gs = GridSearchCV(RandomForestClassifier(n_estimators = 50), rf_params, cv = 5, scoring = 'accuracy')\n",
    "# rf_model_gs = rf_gs.fit(X_train_smote, y_train_smote)\n",
    "# y_test_hat = rf_model_gs.predict(X_test)"
   ]
  },
  {
   "cell_type": "markdown",
   "metadata": {},
   "source": [
    "# Model Performance: PCA - 4 classes"
   ]
  },
  {
   "cell_type": "code",
   "execution_count": 56,
   "metadata": {},
   "outputs": [
    {
     "name": "stdout",
     "output_type": "stream",
     "text": [
      "Original number of features: 11\n",
      "Reduced number of features: 10\n"
     ]
    },
    {
     "data": {
      "image/png": "[encoded data removed]",
      "text/plain": [
       "<Figure size 432x288 with 2 Axes>"
      ]
     },
     "metadata": {
      "needs_background": "light"
     },
     "output_type": "display_data"
    }
   ],
   "source": [
    "# Running PCA Analysis\n",
    "csv = 'data.csv'\n",
    "target = 'cat'\n",
    "p = PcaAnalysis(csv,target)\n",
    "pca, features_df = p.pca_features(csv,target)\n",
    "g = p.get_components(csv,target,5)\n",
    "\n",
    "# join pca components to dataframe and save on csv\n",
    "\n",
    "pca_df = features_df.join(data['cat'])\n",
    "# data.to_csv('pca.csv')"
   ]
  },
  {
   "cell_type": "code",
   "execution_count": 72,
   "metadata": {},
   "outputs": [],
   "source": [
    "pca_df = features_df.join(data['cat'])\n",
    "pca_df.to_csv('pca.csv')"
   ]
  },
  {
   "cell_type": "code",
   "execution_count": 71,
   "metadata": {},
   "outputs": [],
   "source": [
    "data.reset_index(drop=True,inplace=True)"
   ]
  },
  {
   "cell_type": "code",
   "execution_count": 73,
   "metadata": {},
   "outputs": [],
   "source": [
    "# Splitting Data\n",
    "csv = 'pca.csv'\n",
    "d = DataClean(csv)\n",
    "df_mm, num_scale = d.read_scale(csv)\n",
    "X_train, X_test, y_train, y_test = d.index(csv)"
   ]
  },
  {
   "cell_type": "markdown",
   "metadata": {},
   "source": [
    "### Decision Tree for PCA components"
   ]
  },
  {
   "cell_type": "markdown",
   "metadata": {},
   "source": [
    "From all the trained models above decision tree is the one that performed best for the 0 and 3 classes (bad and very good wines). We test the same model to see if there is any improvement with PCA"
   ]
  },
  {
   "cell_type": "code",
   "execution_count": 74,
   "metadata": {},
   "outputs": [
    {
     "name": "stdout",
     "output_type": "stream",
     "text": [
      "              precision    recall  f1-score   support\n",
      "\n",
      "           0       0.26      0.20      0.23        55\n",
      "           1       0.87      0.86      0.87       992\n",
      "           2       0.56      0.57      0.56       211\n",
      "           3       0.31      0.43      0.36        42\n",
      "\n",
      "    accuracy                           0.77      1300\n",
      "   macro avg       0.50      0.52      0.50      1300\n",
      "weighted avg       0.78      0.77      0.77      1300\n",
      "\n",
      "0.773\n"
     ]
    }
   ],
   "source": [
    "dt = DecisionTreeClassifier(criterion='entropy', class_weight='balanced')\n",
    "dt_model = dt.fit(X_train, y_train)\n",
    "y_test_hat = dt_model.predict(X_test)\n",
    "\n",
    "print(classification_report(y_test, y_test_hat))\n",
    "# precision and recall are very similar\n",
    "print(round(accuracy_score(y_test, y_test_hat), 3))"
   ]
  },
  {
   "cell_type": "markdown",
   "metadata": {},
   "source": [
    "Let's check future importance and remove the two least important features"
   ]
  },
  {
   "cell_type": "code",
   "execution_count": 75,
   "metadata": {},
   "outputs": [
    {
     "data": {
      "text/plain": [
       "<BarContainer object of 5 artists>"
      ]
     },
     "execution_count": 75,
     "metadata": {},
     "output_type": "execute_result"
    },
    {
     "data": {
      "image/png": "[encoded data removed]",
      "text/plain": [
       "<Figure size 576x360 with 1 Axes>"
      ]
     },
     "metadata": {
      "needs_background": "light"
     },
     "output_type": "display_data"
    }
   ],
   "source": [
    "dt_feature_importance = [(X_train.columns[i[0]], i[1]) for i in list(enumerate(dt.feature_importances_))]\n",
    "dt_feature_importance = sorted(dt_feature_importance, key = lambda x: x[1], reverse = False)[:5]\n",
    "fig = plt.figure(figsize = (8,5))\n",
    "plt.bar([i[0] for i in dt_feature_importance], [i[1] for i in dt_feature_importance], color='skyblue')"
   ]
  },
  {
   "cell_type": "markdown",
   "metadata": {},
   "source": [
    "Now we remove from our dataframe component 9 and zero and test the model again"
   ]
  },
  {
   "cell_type": "code",
   "execution_count": 76,
   "metadata": {},
   "outputs": [],
   "source": [
    "X_train_p = X_train.drop(columns=['c9','c0'],axis=1)\n",
    "X_test_p  = X_test.drop(columns=['c9','c0'],axis=1)\n",
    "\n",
    "y_train_p = y_train.drop(columns=['c9','c0'],axis=1)\n",
    "y_test_p = y_test.drop(columns=['c9','c0'],axis=1)"
   ]
  },
  {
   "cell_type": "code",
   "execution_count": 77,
   "metadata": {},
   "outputs": [
    {
     "name": "stdout",
     "output_type": "stream",
     "text": [
      "              precision    recall  f1-score   support\n",
      "\n",
      "           0       0.18      0.18      0.18        55\n",
      "           1       0.87      0.85      0.86       992\n",
      "           2       0.53      0.56      0.55       211\n",
      "           3       0.38      0.45      0.41        42\n",
      "\n",
      "    accuracy                           0.76      1300\n",
      "   macro avg       0.49      0.51      0.50      1300\n",
      "weighted avg       0.77      0.76      0.76      1300\n",
      "\n",
      "0.76\n"
     ]
    }
   ],
   "source": [
    "dt = DecisionTreeClassifier(criterion='entropy', class_weight='balanced')\n",
    "dt_model = dt.fit(X_train_p, y_train_p)\n",
    "y_pred = dt_model.predict(X_test_p)\n",
    "\n",
    "print(classification_report(y_test_p, y_pred))\n",
    "# precision and recall are very similar\n",
    "print(round(accuracy_score(y_test_p, y_pred), 3))"
   ]
  },
  {
   "cell_type": "markdown",
   "metadata": {},
   "source": [
    "Class 3 (very good) has improved but we ha"
   ]
  },
  {
   "cell_type": "markdown",
   "metadata": {},
   "source": [
    "### SVC PCA components"
   ]
  },
  {
   "cell_type": "code",
   "execution_count": 78,
   "metadata": {},
   "outputs": [
    {
     "name": "stdout",
     "output_type": "stream",
     "text": [
      "              precision    recall  f1-score   support\n",
      "\n",
      "           0       0.12      0.65      0.20        55\n",
      "           1       0.88      0.42      0.57       992\n",
      "           2       0.29      0.38      0.33       211\n",
      "           3       0.10      0.64      0.18        42\n",
      "\n",
      "    accuracy                           0.43      1300\n",
      "   macro avg       0.35      0.52      0.32      1300\n",
      "weighted avg       0.73      0.43      0.50      1300\n",
      "\n",
      "0.429\n"
     ]
    }
   ],
   "source": [
    "svc = SVC(kernel=\"linear\", class_weight=\"balanced\", C=1.0, random_state=0) # Train classifier\n",
    "sv_model = svc.fit(X_train_p, y_train_p)\n",
    "\n",
    "y_sv = sv_model.predict(X_test_p)\n",
    "print(classification_report(y_test_p, y_sv))\n",
    "print(round(accuracy_score(y_test_p, y_sv), 3))"
   ]
  },
  {
   "cell_type": "markdown",
   "metadata": {},
   "source": [
    "### KNN"
   ]
  },
  {
   "cell_type": "markdown",
   "metadata": {},
   "source": [
    "Finding best k"
   ]
  },
  {
   "cell_type": "code",
   "execution_count": 100,
   "metadata": {},
   "outputs": [],
   "source": [
    "from sklearn.neighbors import KNeighborsClassifier \n",
    "from sklearn.preprocessing import StandardScaler \n",
    "from sklearn.pipeline import Pipeline, FeatureUnion \n",
    "from sklearn.model_selection import GridSearchCV\n",
    "\n",
    "knn = KNeighborsClassifier(n_neighbors=5, n_jobs=-1)\n",
    "# Create a pipeline\n",
    "pipe = Pipeline([(\"knn\", knn)]) # Create space of candidate values\n",
    "search_space = [{\"knn__n_neighbors\": [1, 2, 3, 4, 5, 6, 7, 8, 9, 10]}, \"knn__n_jons:\"[-1,]]\n",
    "# Create grid search\n",
    "classifier = GridSearchCV(pipe, search_space, cv=5, verbose=0).fit(X_train_smote, y_train_smote.values.ravel())"
   ]
  },
  {
   "cell_type": "code",
   "execution_count": 101,
   "metadata": {},
   "outputs": [
    {
     "data": {
      "text/plain": [
       "1"
      ]
     },
     "execution_count": 101,
     "metadata": {},
     "output_type": "execute_result"
    }
   ],
   "source": [
    "classifier.best_estimator_.get_params()[\"knn__n_neighbors\"]"
   ]
  },
  {
   "cell_type": "code",
   "execution_count": 106,
   "metadata": {},
   "outputs": [
    {
     "name": "stdout",
     "output_type": "stream",
     "text": [
      "Highest precision: 0.5481770701785289\n",
      "Highest accuracy: 0.803076923076923\n"
     ]
    }
   ],
   "source": [
    "from sklearn.neighbors import KNeighborsClassifier\n",
    "\n",
    "precision = []\n",
    "accuracy = []\n",
    "\n",
    "\n",
    "for i in range(1,4):\n",
    "    knn = KNeighborsClassifier(n_neighbors=1, metric='minkowski', p=i,)\n",
    "    model = knn.fit(X_train, y_train.values.ravel())\n",
    "    y_pred = knn.predict(X_test)\n",
    "    precision.append(precision_score(y_test, y_pred, average='macro'))\n",
    "    accuracy.append(accuracy_score(y_test, y_pred))\n",
    "    \n",
    "    \n",
    "print('Highest precision:', max(precision))\n",
    "print('Highest accuracy:',max(accuracy))"
   ]
  },
  {
   "cell_type": "code",
   "execution_count": 113,
   "metadata": {},
   "outputs": [],
   "source": [
    "knn = KNeighborsClassifier(n_neighbors=1, metric='minkowski', p=1)\n",
    "model = knn.fit(X_train, y_train.values.ravel())\n",
    "y_hat = knn.predict(X_test)"
   ]
  },
  {
   "cell_type": "code",
   "execution_count": 117,
   "metadata": {},
   "outputs": [
    {
     "name": "stdout",
     "output_type": "stream",
     "text": [
      "              precision    recall  f1-score   support\n",
      "\n",
      "           0       0.26      0.16      0.20        55\n",
      "           1       0.88      0.89      0.88       992\n",
      "           2       0.62      0.62      0.62       211\n",
      "           3       0.43      0.48      0.45        42\n",
      "\n",
      "    accuracy                           0.80      1300\n",
      "   macro avg       0.55      0.54      0.54      1300\n",
      "weighted avg       0.79      0.80      0.80      1300\n",
      "\n",
      "Precision: 0.803\n"
     ]
    }
   ],
   "source": [
    "print(classification_report(y_test, y_hat))\n",
    "print('Precision:', round(metrics.precision_score(y_test, y_hat, average='micro'),3))"
   ]
  },
  {
   "cell_type": "code",
   "execution_count": 120,
   "metadata": {},
   "outputs": [
    {
     "data": {
      "text/plain": [
       "Text(0.5, 257.44, 'Predicted label')"
      ]
     },
     "execution_count": 120,
     "metadata": {},
     "output_type": "execute_result"
    },
    {
     "data": {
      "image/png": "[encoded data removed]",
      "text/plain": [
       "<Figure size 432x288 with 2 Axes>"
      ]
     },
     "metadata": {
      "needs_background": "light"
     },
     "output_type": "display_data"
    }
   ],
   "source": [
    "from sklearn import metrics\n",
    "cnf_matrix = metrics.confusion_matrix(y_test, y_hat)\n",
    "cnf_matrix\n",
    "\n",
    "class_names=[0,1] # name  of classes\n",
    "fig, ax = plt.subplots()\n",
    "tick_marks = np.arange(len(class_names))\n",
    "plt.xticks(tick_marks, class_names)\n",
    "plt.yticks(tick_marks, class_names)\n",
    "# create heatmap\n",
    "sns.heatmap(pd.DataFrame(cnf_matrix), annot=True, cmap='YlGnBu' ,fmt='g')\n",
    "ax.xaxis.set_label_position(\"top\")\n",
    "plt.tight_layout()\n",
    "plt.title('Confusion matrix', y=1.1)\n",
    "plt.ylabel('Actual label')\n",
    "plt.xlabel('Predicted label')"
   ]
  },
  {
   "cell_type": "code",
   "execution_count": null,
   "metadata": {},
   "outputs": [],
   "source": []
  }
 ],
 "metadata": {
  "kernelspec": {
   "display_name": "Python 3",
   "language": "python",
   "name": "python3"
  },
  "language_info": {
   "codemirror_mode": {
    "name": "ipython",
    "version": 3
   },
   "file_extension": ".py",
   "mimetype": "text/x-python",
   "name": "python",
   "nbconvert_exporter": "python",
   "pygments_lexer": "ipython3",
   "version": "3.7.3"
  }
 },
 "nbformat": 4,
 "nbformat_minor": 4
}
