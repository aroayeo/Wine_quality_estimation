{
 "cells": [
  {
   "cell_type": "markdown",
   "metadata": {},
   "source": [
    "### Data Processing"
   ]
  },
  {
   "cell_type": "code",
   "execution_count": 2,
   "metadata": {},
   "outputs": [],
   "source": [
    "from define_classes import *\n",
    "from data_processing import *\n",
    "from pca import *\n",
    "from csv_clean import *\n",
    "from polynomial_regression import *\n",
    "%load_ext autoreload\n",
    "%autoreload 2"
   ]
  },
  {
   "cell_type": "code",
   "execution_count": 3,
   "metadata": {},
   "outputs": [],
   "source": [
    "import warnings\n",
    "warnings.filterwarnings('ignore')"
   ]
  },
  {
   "cell_type": "markdown",
   "metadata": {},
   "source": [
    "### Setting the number of classes for different wine quality points threshold"
   ]
  },
  {
   "cell_type": "code",
   "execution_count": 4,
   "metadata": {},
   "outputs": [
    {
     "name": "stdout",
     "output_type": "stream",
     "text": [
      "Possible thresdholds for classification: [3 4 5 6 7 8 9]\n"
     ]
    }
   ],
   "source": [
    "data = pd.read_csv('data.csv', index_col=0)\n",
    "print('Possible thresdholds for classification:',np.sort(data['quality'].unique()))"
   ]
  },
  {
   "cell_type": "code",
   "execution_count": 5,
   "metadata": {},
   "outputs": [],
   "source": [
    "target = 'cat'\n",
    "n_c = 4 # bad, average, good wine\n",
    "thres = [4,6,7]\n",
    "value = 'quality'\n",
    "\n",
    "import define_classes\n",
    "# self,data:pd.DataFrame, target, n_c, thres: list or int, value\n",
    "dt = define_classes.DefineTarget(data)\n",
    "# self, target, n_c, thres: list or int, value\n",
    "data = dt.get_classes(target, n_c, thres, value)"
   ]
  },
  {
   "cell_type": "code",
   "execution_count": 6,
   "metadata": {},
   "outputs": [
    {
     "data": {
      "text/plain": [
       "1    4974\n",
       "2    1079\n",
       "0     246\n",
       "3     198\n",
       "Name: cat, dtype: int64"
      ]
     },
     "execution_count": 6,
     "metadata": {},
     "output_type": "execute_result"
    }
   ],
   "source": [
    "data['cat'].value_counts()"
   ]
  },
  {
   "cell_type": "markdown",
   "metadata": {},
   "source": [
    "# Client Features Selection"
   ]
  },
  {
   "cell_type": "code",
   "execution_count": 10,
   "metadata": {},
   "outputs": [
    {
     "data": {
      "text/html": [
       "<div>\n",
       "<style scoped>\n",
       "    .dataframe tbody tr th:only-of-type {\n",
       "        vertical-align: middle;\n",
       "    }\n",
       "\n",
       "    .dataframe tbody tr th {\n",
       "        vertical-align: top;\n",
       "    }\n",
       "\n",
       "    .dataframe thead th {\n",
       "        text-align: right;\n",
       "    }\n",
       "</style>\n",
       "<table border=\"1\" class=\"dataframe\">\n",
       "  <thead>\n",
       "    <tr style=\"text-align: right;\">\n",
       "      <th></th>\n",
       "      <th>fixedacidity</th>\n",
       "      <th>volatileacidity</th>\n",
       "      <th>citricacid</th>\n",
       "      <th>residualsugar</th>\n",
       "      <th>chlorides</th>\n",
       "      <th>freesulfurdioxide</th>\n",
       "      <th>totalsulfurdioxide</th>\n",
       "      <th>density</th>\n",
       "      <th>pH</th>\n",
       "      <th>sulphates</th>\n",
       "      <th>alcohol</th>\n",
       "      <th>quality</th>\n",
       "      <th>type</th>\n",
       "      <th>cat</th>\n",
       "    </tr>\n",
       "  </thead>\n",
       "  <tbody>\n",
       "    <tr>\n",
       "      <th>count</th>\n",
       "      <td>4974.000000</td>\n",
       "      <td>4974.000000</td>\n",
       "      <td>4974.000000</td>\n",
       "      <td>4974.000000</td>\n",
       "      <td>4974.000000</td>\n",
       "      <td>4974.000000</td>\n",
       "      <td>4974.000000</td>\n",
       "      <td>4974.000000</td>\n",
       "      <td>4974.000000</td>\n",
       "      <td>4974.000000</td>\n",
       "      <td>4974.000000</td>\n",
       "      <td>4974.000000</td>\n",
       "      <td>4974.000000</td>\n",
       "      <td>4974.0</td>\n",
       "    </tr>\n",
       "    <tr>\n",
       "      <th>mean</th>\n",
       "      <td>7.241536</td>\n",
       "      <td>0.346423</td>\n",
       "      <td>0.316765</td>\n",
       "      <td>5.659087</td>\n",
       "      <td>0.058674</td>\n",
       "      <td>30.766285</td>\n",
       "      <td>117.744069</td>\n",
       "      <td>0.995113</td>\n",
       "      <td>3.215346</td>\n",
       "      <td>0.529908</td>\n",
       "      <td>10.265275</td>\n",
       "      <td>5.570165</td>\n",
       "      <td>0.265179</td>\n",
       "      <td>1.0</td>\n",
       "    </tr>\n",
       "    <tr>\n",
       "      <th>std</th>\n",
       "      <td>1.279894</td>\n",
       "      <td>0.165660</td>\n",
       "      <td>0.150658</td>\n",
       "      <td>4.935219</td>\n",
       "      <td>0.036437</td>\n",
       "      <td>17.604133</td>\n",
       "      <td>57.861460</td>\n",
       "      <td>0.002867</td>\n",
       "      <td>0.159461</td>\n",
       "      <td>0.144591</td>\n",
       "      <td>1.070626</td>\n",
       "      <td>0.495102</td>\n",
       "      <td>0.441473</td>\n",
       "      <td>0.0</td>\n",
       "    </tr>\n",
       "    <tr>\n",
       "      <th>min</th>\n",
       "      <td>3.800000</td>\n",
       "      <td>0.080000</td>\n",
       "      <td>0.000000</td>\n",
       "      <td>0.600000</td>\n",
       "      <td>0.009000</td>\n",
       "      <td>1.000000</td>\n",
       "      <td>6.000000</td>\n",
       "      <td>0.987220</td>\n",
       "      <td>2.720000</td>\n",
       "      <td>0.230000</td>\n",
       "      <td>8.000000</td>\n",
       "      <td>5.000000</td>\n",
       "      <td>0.000000</td>\n",
       "      <td>1.0</td>\n",
       "    </tr>\n",
       "    <tr>\n",
       "      <th>25%</th>\n",
       "      <td>6.400000</td>\n",
       "      <td>0.230000</td>\n",
       "      <td>0.240000</td>\n",
       "      <td>1.800000</td>\n",
       "      <td>0.040000</td>\n",
       "      <td>17.000000</td>\n",
       "      <td>76.000000</td>\n",
       "      <td>0.992992</td>\n",
       "      <td>3.110000</td>\n",
       "      <td>0.440000</td>\n",
       "      <td>9.400000</td>\n",
       "      <td>5.000000</td>\n",
       "      <td>0.000000</td>\n",
       "      <td>1.0</td>\n",
       "    </tr>\n",
       "    <tr>\n",
       "      <th>50%</th>\n",
       "      <td>7.000000</td>\n",
       "      <td>0.300000</td>\n",
       "      <td>0.310000</td>\n",
       "      <td>3.100000</td>\n",
       "      <td>0.049000</td>\n",
       "      <td>29.000000</td>\n",
       "      <td>121.000000</td>\n",
       "      <td>0.995400</td>\n",
       "      <td>3.200000</td>\n",
       "      <td>0.510000</td>\n",
       "      <td>10.000000</td>\n",
       "      <td>6.000000</td>\n",
       "      <td>0.000000</td>\n",
       "      <td>1.0</td>\n",
       "    </tr>\n",
       "    <tr>\n",
       "      <th>75%</th>\n",
       "      <td>7.700000</td>\n",
       "      <td>0.420000</td>\n",
       "      <td>0.400000</td>\n",
       "      <td>8.500000</td>\n",
       "      <td>0.070000</td>\n",
       "      <td>42.000000</td>\n",
       "      <td>160.000000</td>\n",
       "      <td>0.997200</td>\n",
       "      <td>3.320000</td>\n",
       "      <td>0.600000</td>\n",
       "      <td>11.000000</td>\n",
       "      <td>6.000000</td>\n",
       "      <td>1.000000</td>\n",
       "      <td>1.0</td>\n",
       "    </tr>\n",
       "    <tr>\n",
       "      <th>max</th>\n",
       "      <td>15.900000</td>\n",
       "      <td>1.330000</td>\n",
       "      <td>1.660000</td>\n",
       "      <td>65.800000</td>\n",
       "      <td>0.611000</td>\n",
       "      <td>131.000000</td>\n",
       "      <td>344.000000</td>\n",
       "      <td>1.038980</td>\n",
       "      <td>4.010000</td>\n",
       "      <td>1.980000</td>\n",
       "      <td>14.900000</td>\n",
       "      <td>6.000000</td>\n",
       "      <td>1.000000</td>\n",
       "      <td>1.0</td>\n",
       "    </tr>\n",
       "  </tbody>\n",
       "</table>\n",
       "</div>"
      ],
      "text/plain": [
       "       fixedacidity  volatileacidity   citricacid  residualsugar    chlorides  \\\n",
       "count   4974.000000      4974.000000  4974.000000    4974.000000  4974.000000   \n",
       "mean       7.241536         0.346423     0.316765       5.659087     0.058674   \n",
       "std        1.279894         0.165660     0.150658       4.935219     0.036437   \n",
       "min        3.800000         0.080000     0.000000       0.600000     0.009000   \n",
       "25%        6.400000         0.230000     0.240000       1.800000     0.040000   \n",
       "50%        7.000000         0.300000     0.310000       3.100000     0.049000   \n",
       "75%        7.700000         0.420000     0.400000       8.500000     0.070000   \n",
       "max       15.900000         1.330000     1.660000      65.800000     0.611000   \n",
       "\n",
       "       freesulfurdioxide  totalsulfurdioxide      density           pH  \\\n",
       "count        4974.000000         4974.000000  4974.000000  4974.000000   \n",
       "mean           30.766285          117.744069     0.995113     3.215346   \n",
       "std            17.604133           57.861460     0.002867     0.159461   \n",
       "min             1.000000            6.000000     0.987220     2.720000   \n",
       "25%            17.000000           76.000000     0.992992     3.110000   \n",
       "50%            29.000000          121.000000     0.995400     3.200000   \n",
       "75%            42.000000          160.000000     0.997200     3.320000   \n",
       "max           131.000000          344.000000     1.038980     4.010000   \n",
       "\n",
       "         sulphates      alcohol      quality         type     cat  \n",
       "count  4974.000000  4974.000000  4974.000000  4974.000000  4974.0  \n",
       "mean      0.529908    10.265275     5.570165     0.265179     1.0  \n",
       "std       0.144591     1.070626     0.495102     0.441473     0.0  \n",
       "min       0.230000     8.000000     5.000000     0.000000     1.0  \n",
       "25%       0.440000     9.400000     5.000000     0.000000     1.0  \n",
       "50%       0.510000    10.000000     6.000000     0.000000     1.0  \n",
       "75%       0.600000    11.000000     6.000000     1.000000     1.0  \n",
       "max       1.980000    14.900000     6.000000     1.000000     1.0  "
      ]
     },
     "execution_count": 10,
     "metadata": {},
     "output_type": "execute_result"
    }
   ],
   "source": [
    "data.loc[data['cat']==1].describe()"
   ]
  },
  {
   "cell_type": "markdown",
   "metadata": {},
   "source": [
    "Since our client doesn't gather the same data as contained in our innitial sample, to train the model we will include only the information that is available for the company"
   ]
  },
  {
   "cell_type": "code",
   "execution_count": 11,
   "metadata": {},
   "outputs": [],
   "source": [
    "client_data = ['alcohol', 'fixedacidity', 'pH', 'volatileacidity', 'freesulfurdioxide', 'totalsulfurdioxide', \n",
    "               'type', 'cat', 'quality']"
   ]
  },
  {
   "cell_type": "code",
   "execution_count": 12,
   "metadata": {},
   "outputs": [],
   "source": [
    "# rewrite csv with the target variable\n",
    "data = data[client_data]\n",
    "data.to_csv('data_client_four.csv')"
   ]
  },
  {
   "cell_type": "markdown",
   "metadata": {},
   "source": [
    "#### We can see a large inbalance in the very good(class 3) and bad wines (class 0)"
   ]
  },
  {
   "cell_type": "code",
   "execution_count": 13,
   "metadata": {},
   "outputs": [
    {
     "name": "stderr",
     "output_type": "stream",
     "text": [
      "Using TensorFlow backend.\n"
     ]
    }
   ],
   "source": [
    "import numpy as np\n",
    "from sklearn.utils.class_weight import compute_sample_weight\n",
    "from imblearn.over_sampling import SMOTE\n",
    "from sklearn.linear_model import LogisticRegression\n",
    "from sklearn.tree import DecisionTreeClassifier\n",
    "from sklearn.ensemble import RandomForestClassifier, RandomForestRegressor, VotingClassifier\n",
    "from sklearn.neural_network import MLPClassifier\n",
    "from sklearn.model_selection import cross_val_score, GridSearchCV\n",
    "from sklearn.svm import SVC\n",
    "from sklearn.metrics import recall_score, classification_report, accuracy_score, precision_score, precision_recall_curve\n",
    "from sklearn.preprocessing import label_binarize\n",
    "from ordinal import *\n",
    "import matplotlib.pyplot as plt\n",
    "from sklearn.naive_bayes import GaussianNB\n",
    "from sklearn.neighbors import KNeighborsClassifier \n",
    "from sklearn.naive_bayes import MultinomialNB\n",
    "from sklearn.preprocessing import LabelEncoder, OrdinalEncoder\n",
    "from sklearn.model_selection import train_test_split as tts\n",
    "from yellowbrick.classifier import PrecisionRecallCurve\n",
    "from sklearn import metrics\n",
    "from sklearn.pipeline import Pipeline"
   ]
  },
  {
   "cell_type": "code",
   "execution_count": 14,
   "metadata": {},
   "outputs": [],
   "source": [
    "# Splitting Data\n",
    "\n",
    "csv = 'data_client_four.csv'\n",
    "y = 'cat'\n",
    "d = DataClean(csv)\n",
    "df_mm, num_scale = d.read_scale(csv)\n",
    "X_train, X_test, y_train, y_test = d.split(csv, y)"
   ]
  },
  {
   "cell_type": "markdown",
   "metadata": {},
   "source": [
    "### Balancing the Classes : SMOTE"
   ]
  },
  {
   "cell_type": "code",
   "execution_count": 15,
   "metadata": {},
   "outputs": [
    {
     "data": {
      "text/plain": [
       "cat\n",
       "0    3982\n",
       "1    3982\n",
       "2    3982\n",
       "3    3982\n",
       "Name: alcohol, dtype: int64"
      ]
     },
     "execution_count": 15,
     "metadata": {},
     "output_type": "execute_result"
    }
   ],
   "source": [
    "smt = SMOTE(sampling_strategy='not majority', k_neighbors=3)\n",
    "X_train_s, y_train_s = smt.fit_sample(np.asarray(X_train), np.asarray(y_train))\n",
    "\n",
    "col = list(num_scale.columns)\n",
    "\n",
    "X_train_smote = pd.DataFrame(X_train_s, columns=col)\n",
    "y_train_smote = pd.DataFrame(y_train_s, columns=['cat'])\n",
    "\n",
    "smote_df = X_train_smote.join(y_train_smote)\n",
    "\n",
    "smote_df.groupby('cat').count().iloc[:,0]"
   ]
  },
  {
   "cell_type": "markdown",
   "metadata": {},
   "source": [
    "### Ordinal Classification "
   ]
  },
  {
   "cell_type": "markdown",
   "metadata": {},
   "source": [
    "Ordinal variables are those whose value exists on an arbitrary scale where only the relative ordering between different values is significant. In our case 0 to 3 is the order definining the incremental quality of wine. Therefore the estimation should take into account that our variables are 'order-dependent'.    \n",
    "A way to tackle this type of classes (ordered) is using the 'OrdinalClassifier' class available for python in GitHub. This will create binary vectors for each class. This can be applied to classifiers that generate classes probability, or in python what we know as 'predict_proba'"
   ]
  },
  {
   "cell_type": "code",
   "execution_count": 16,
   "metadata": {},
   "outputs": [],
   "source": [
    "y_train_bin = label_binarize(y_train_smote, classes=[0, 1, 2])"
   ]
  },
  {
   "cell_type": "code",
   "execution_count": 17,
   "metadata": {},
   "outputs": [],
   "source": [
    "clf = OrdinalClassifier(LogisticRegression(C =1e9 ,solver='newton-cg',fit_intercept=True, multi_class='multinomial'))"
   ]
  },
  {
   "cell_type": "code",
   "execution_count": 18,
   "metadata": {},
   "outputs": [],
   "source": [
    "clf.fit(X_train_smote, y_train_smote)"
   ]
  },
  {
   "cell_type": "code",
   "execution_count": 19,
   "metadata": {},
   "outputs": [
    {
     "name": "stdout",
     "output_type": "stream",
     "text": [
      "              precision    recall  f1-score   support\n",
      "\n",
      "           0       0.13      0.69      0.22        55\n",
      "           1       0.89      0.41      0.56       992\n",
      "           2       0.27      0.41      0.33       211\n",
      "           3       0.11      0.60      0.19        42\n",
      "\n",
      "    accuracy                           0.43      1300\n",
      "   macro avg       0.35      0.53      0.32      1300\n",
      "weighted avg       0.73      0.43      0.50      1300\n",
      "\n"
     ]
    }
   ],
   "source": [
    "lr_prob = clf.predict_proba(X_test)[:,1]\n",
    "y_pred = clf.predict(X_test)\n",
    "\n",
    "print(classification_report(y_test, y_pred))"
   ]
  },
  {
   "cell_type": "markdown",
   "metadata": {},
   "source": [
    "### Results: \n",
    " - High precission for only the average wine class. High recall on the classes with low precision"
   ]
  },
  {
   "cell_type": "markdown",
   "metadata": {},
   "source": [
    "## Voting Classifier"
   ]
  },
  {
   "cell_type": "code",
   "execution_count": 20,
   "metadata": {},
   "outputs": [],
   "source": [
    "clf1 = LogisticRegression(multi_class='multinomial', random_state=1, class_weight='balanced')\n",
    "clf2 = RandomForestClassifier(n_estimators=50, random_state=1, class_weight='balanced' )\n",
    "clf3 = GaussianNB()\n",
    "clf4 = KNeighborsClassifier(n_neighbors=5, metric='minkowski', p=2)\n",
    "clf5 = SVC(kernel=\"linear\", class_weight=\"balanced\", C=1.0, decision_function_shape = 'ovo')\n",
    "clf6 = DecisionTreeClassifier()"
   ]
  },
  {
   "cell_type": "code",
   "execution_count": 21,
   "metadata": {},
   "outputs": [],
   "source": [
    "eclf1 = VotingClassifier(estimators=[ ('lr', clf1), ('rf', clf2), ('gnb', clf3), ('knn', clf4), ('svc', clf5)], voting='hard')\n",
    "eclf1 = eclf1.fit(X_train, y_train)\n",
    "y_vt = eclf1.predict(X_test)"
   ]
  },
  {
   "cell_type": "code",
   "execution_count": 22,
   "metadata": {},
   "outputs": [],
   "source": [
    "y_vot = eclf1.score(X_test, y_test)"
   ]
  },
  {
   "cell_type": "code",
   "execution_count": 23,
   "metadata": {},
   "outputs": [
    {
     "name": "stdout",
     "output_type": "stream",
     "text": [
      "              precision    recall  f1-score   support\n",
      "\n",
      "           0       0.24      0.15      0.18        55\n",
      "           1       0.83      0.89      0.86       992\n",
      "           2       0.50      0.42      0.45       211\n",
      "           3       0.50      0.24      0.32        42\n",
      "\n",
      "    accuracy                           0.76      1300\n",
      "   macro avg       0.52      0.42      0.45      1300\n",
      "weighted avg       0.74      0.76      0.75      1300\n",
      "\n"
     ]
    }
   ],
   "source": [
    "print(classification_report(y_test, y_vt))"
   ]
  },
  {
   "cell_type": "code",
   "execution_count": 24,
   "metadata": {},
   "outputs": [
    {
     "data": {
      "text/plain": [
       "Text(0.5, 352.48, 'Predicted label')"
      ]
     },
     "execution_count": 24,
     "metadata": {},
     "output_type": "execute_result"
    },
    {
     "data": {
      "image/png": "[encoded data removed]",
      "text/plain": [
       "<Figure size 576x396 with 2 Axes>"
      ]
     },
     "metadata": {},
     "output_type": "display_data"
    }
   ],
   "source": [
    "cnf_matrix = metrics.confusion_matrix(y_test, y_vt)\n",
    "cnf_matrix\n",
    "\n",
    "class_names=[0,1] # name  of classes\n",
    "fig, ax = plt.subplots()\n",
    "tick_marks = np.arange(len(class_names))\n",
    "plt.xticks(tick_marks, class_names)\n",
    "plt.yticks(tick_marks, class_names)\n",
    "# create heatmap\n",
    "sns.heatmap(pd.DataFrame(cnf_matrix), annot=True, cmap='YlGnBu' ,fmt='g')\n",
    "ax.xaxis.set_label_position(\"top\")\n",
    "plt.tight_layout()\n",
    "plt.title('Confusion matrix', y=1.1)\n",
    "plt.ylabel('Actual label')\n",
    "plt.xlabel('Predicted label')"
   ]
  },
  {
   "cell_type": "markdown",
   "metadata": {},
   "source": [
    "### Pipeline and GridSearchCV"
   ]
  },
  {
   "cell_type": "code",
   "execution_count": 25,
   "metadata": {},
   "outputs": [
    {
     "name": "stdout",
     "output_type": "stream",
     "text": [
      "clf               precision    recall  f1-score   support\n",
      "\n",
      "           0       0.18      0.29      0.22        55\n",
      "           1       0.89      0.79      0.84       992\n",
      "           2       0.52      0.63      0.57       211\n",
      "           3       0.27      0.45      0.34        42\n",
      "\n",
      "    accuracy                           0.73      1300\n",
      "   macro avg       0.47      0.54      0.49      1300\n",
      "weighted avg       0.78      0.73      0.75      1300\n",
      "\n",
      "rf               precision    recall  f1-score   support\n",
      "\n",
      "           0       0.24      0.25      0.25        55\n",
      "           1       0.88      0.84      0.86       992\n",
      "           2       0.54      0.61      0.57       211\n",
      "           3       0.37      0.52      0.44        42\n",
      "\n",
      "    accuracy                           0.77      1300\n",
      "   macro avg       0.51      0.56      0.53      1300\n",
      "weighted avg       0.78      0.77      0.78      1300\n",
      "\n",
      "knn               precision    recall  f1-score   support\n",
      "\n",
      "           0       0.12      0.29      0.17        55\n",
      "           1       0.90      0.65      0.75       992\n",
      "           2       0.42      0.67      0.52       211\n",
      "           3       0.20      0.60      0.30        42\n",
      "\n",
      "    accuracy                           0.63      1300\n",
      "   macro avg       0.41      0.55      0.44      1300\n",
      "weighted avg       0.77      0.63      0.68      1300\n",
      "\n",
      "svm               precision    recall  f1-score   support\n",
      "\n",
      "           0       0.15      0.58      0.23        55\n",
      "           1       0.91      0.50      0.65       992\n",
      "           2       0.33      0.50      0.39       211\n",
      "           3       0.12      0.57      0.19        42\n",
      "\n",
      "    accuracy                           0.51      1300\n",
      "   macro avg       0.37      0.54      0.37      1300\n",
      "weighted avg       0.76      0.51      0.58      1300\n",
      "\n",
      "lg               precision    recall  f1-score   support\n",
      "\n",
      "           0       0.12      0.75      0.21        55\n",
      "           1       0.89      0.39      0.54       992\n",
      "           2       0.25      0.31      0.27       211\n",
      "           3       0.10      0.64      0.17        42\n",
      "\n",
      "    accuracy                           0.40      1300\n",
      "   macro avg       0.34      0.52      0.30      1300\n",
      "weighted avg       0.73      0.40      0.47      1300\n",
      "\n"
     ]
    }
   ],
   "source": [
    "models = [('clf', DecisionTreeClassifier()),\n",
    "        ('rf', RandomForestClassifier()),\n",
    "        ('knn', KNeighborsClassifier()),\n",
    "        ('svm', SVC()),\n",
    "        ('lg', LogisticRegression())]\n",
    "\n",
    "\n",
    "spaces = [[{\"clf\": [DecisionTreeClassifier()],\n",
    "                    \"clf__criterion\": ['gini', 'entropy'],\n",
    "                    \"clf__presort\": [True, False]}],\n",
    "                [{\"rf\": [RandomForestClassifier()],\n",
    "                    \"rf__n_estimators\": [10, 100, 1000],\n",
    "                    \"rf__max_features\": [1, 2, 3],\n",
    "                    'rf__max_features': ['auto', 'sqrt', 'log2']}],\n",
    "                [{ \"knn\" : [KNeighborsClassifier()],\n",
    "                    'knn__n_neighbors': [1,2,3,4,5,6,7,8,9],\n",
    "                    'knn__p': [1,2]}],\n",
    "                [{\"svm\" : [SVC()],\n",
    "                    'svm__kernel': ['linear','rbf', 'sigmoid'],\n",
    "                    'svm__decision_function_shape': ['ovo', 'ovr']}],\n",
    "                [{ \"lg\" : [LogisticRegression()],\n",
    "                    \"lg__penalty\": ['l1', 'l2'],\n",
    "                    \"lg__C\": np.logspace(0, 4, 10)}]]\n",
    "\n",
    "\n",
    "g_p = []\n",
    "b_e = []\n",
    "y_pred_p = []\n",
    "\n",
    "for m, s in zip(models,spaces):\n",
    "    pipeline = Pipeline([m])\n",
    "    pipeline.fit(X_train_smote, y_train_smote) # doctest: +ELLIPSIS\n",
    "    y_hat = pipeline.predict(X_test)\n",
    "    print(m[0],classification_report(y_test, y_hat))\n",
    "    classifier = GridSearchCV(pipeline, s, cv=5, verbose=0).fit(X_train_smote, y_train_smote)\n",
    "    y_hat = classifier.predict(X_test)\n",
    "    y_pred_p.append(y_hat)\n",
    "    bp = classifier.best_estimator_\n",
    "    gp = classifier.get_params()\n",
    "    b_e.append(bp)\n",
    "    g_p.append(gp)"
   ]
  },
  {
   "cell_type": "markdown",
   "metadata": {},
   "source": [
    " ### Results:\n",
    " \n",
    "  - RandomForest seems to perform the best for the three classes\n",
    " "
   ]
  },
  {
   "cell_type": "code",
   "execution_count": 26,
   "metadata": {},
   "outputs": [
    {
     "name": "stdout",
     "output_type": "stream",
     "text": [
      "rf\n",
      "_______________________________\n",
      "best parameters: Pipeline(memory=None,\n",
      "         steps=[('rf',\n",
      "                 RandomForestClassifier(bootstrap=True, ccp_alpha=0.0,\n",
      "                                        class_weight=None, criterion='gini',\n",
      "                                        max_depth=None, max_features='log2',\n",
      "                                        max_leaf_nodes=None, max_samples=None,\n",
      "                                        min_impurity_decrease=0.0,\n",
      "                                        min_impurity_split=None,\n",
      "                                        min_samples_leaf=1, min_samples_split=2,\n",
      "                                        min_weight_fraction_leaf=0.0,\n",
      "                                        n_estimators=1000, n_jobs=None,\n",
      "                                        oob_score=False, random_state=None,\n",
      "                                        verbose=0, warm_start=False))],\n",
      "         verbose=False)\n"
     ]
    }
   ],
   "source": [
    "print(models[1][0])\n",
    "print('_______________________________')\n",
    "print('best parameters:', b_e[1])\n"
   ]
  },
  {
   "cell_type": "code",
   "execution_count": 29,
   "metadata": {},
   "outputs": [
    {
     "data": {
      "image/png": "[encoded data removed]",
      "text/plain": [
       "<Figure size 576x396 with 1 Axes>"
      ]
     },
     "metadata": {},
     "output_type": "display_data"
    },
    {
     "data": {
      "text/plain": [
       "<matplotlib.axes._subplots.AxesSubplot at 0x1c870b8b70>"
      ]
     },
     "execution_count": 29,
     "metadata": {},
     "output_type": "execute_result"
    }
   ],
   "source": [
    "viz = PrecisionRecallCurve(b_e[1], \n",
    "                    per_class=True, iso_f1_curves=True,\n",
    "                    fill_area=False, micro=False, classes=['bad','average','good','very good']\n",
    "                )\n",
    "\n",
    "viz.fit(X_train_smote, y_train_smote)\n",
    "viz.score(X_test, y_test)\n",
    "viz.show()"
   ]
  },
  {
   "cell_type": "code",
   "execution_count": 27,
   "metadata": {},
   "outputs": [
    {
     "data": {
      "text/plain": [
       "Text(0.5, 352.48, 'Predicted label')"
      ]
     },
     "execution_count": 27,
     "metadata": {},
     "output_type": "execute_result"
    },
    {
     "data": {
      "image/png": "[encoded data removed]",
      "text/plain": [
       "<Figure size 576x396 with 2 Axes>"
      ]
     },
     "metadata": {},
     "output_type": "display_data"
    }
   ],
   "source": [
    "cnf_matrix = metrics.confusion_matrix(y_test, y_pred_p[1])\n",
    "cnf_matrix\n",
    "\n",
    "class_names=[0,1] # name  of classes\n",
    "fig, ax = plt.subplots()\n",
    "tick_marks = np.arange(len(class_names))\n",
    "plt.xticks(tick_marks, class_names)\n",
    "plt.yticks(tick_marks, class_names)\n",
    "# create heatmap\n",
    "sns.heatmap(pd.DataFrame(cnf_matrix), annot=True, cmap='YlGnBu' ,fmt='g')\n",
    "ax.xaxis.set_label_position(\"top\")\n",
    "plt.tight_layout()\n",
    "plt.title('Confusion matrix', y=1.1)\n",
    "plt.ylabel('Actual label')\n",
    "plt.xlabel('Predicted label')"
   ]
  },
  {
   "cell_type": "markdown",
   "metadata": {},
   "source": [
    "### Feature Importance"
   ]
  },
  {
   "cell_type": "code",
   "execution_count": null,
   "metadata": {},
   "outputs": [],
   "source": [
    "model = RandomForestClassifier(bootstrap=True, ccp_alpha=0.0,\n",
    "                                        class_weight=None, criterion='gini',\n",
    "                                        max_depth=None, max_features='auto',\n",
    "                                        max_leaf_nodes=None, max_samples=None,\n",
    "                                        min_impurity_decrease=0.0,\n",
    "                                        min_impurity_split=None,\n",
    "                                        min_samples_leaf=1, min_samples_split=2,\n",
    "                                        min_weight_fraction_leaf=0.0,\n",
    "                                        n_estimators=1000, n_jobs=None,\n",
    "                                        oob_score=False, random_state=None,\n",
    "                                        verbose=0, warm_start=False)\n",
    "model.fit(X_train_smote, y_train_smote)"
   ]
  },
  {
   "cell_type": "code",
   "execution_count": null,
   "metadata": {},
   "outputs": [],
   "source": [
    "y_pred = model.predict(X_test)\n",
    "\n",
    "importances = model.feature_importances_\n",
    "\n",
    "dt_feature_importance = [(X_train_smote.columns[i[0]], i[1]) for i in list(enumerate(importances))]\n",
    "dt_feature_importance = sorted(dt_feature_importance, key = lambda x: x[1], reverse = True)[:5]\n",
    "fig = plt.figure(figsize = (8,5))\n",
    "plt.bar([i[0] for i in dt_feature_importance], [i[1] for i in dt_feature_importance], color='skyblue')"
   ]
  },
  {
   "cell_type": "markdown",
   "metadata": {},
   "source": [
    "### Results: Voting vs Gridsearch\n",
    "- Pipeline and GridsearchCV shows better predictive results"
   ]
  },
  {
   "cell_type": "markdown",
   "metadata": {},
   "source": [
    "# Model Performance: PCA - 3 classes"
   ]
  },
  {
   "cell_type": "code",
   "execution_count": 39,
   "metadata": {},
   "outputs": [
    {
     "name": "stdout",
     "output_type": "stream",
     "text": [
      "Original number of features: 6\n",
      "Reduced number of features: 6\n"
     ]
    },
    {
     "data": {
      "image/png": "[encoded data removed]",
      "text/plain": [
       "<Figure size 576x396 with 2 Axes>"
      ]
     },
     "metadata": {},
     "output_type": "display_data"
    }
   ],
   "source": [
    "# Running PCA Analysis\n",
    "csv = 'data_client.csv'\n",
    "target = 'cat'\n",
    "p = PcaAnalysis(csv,target)\n",
    "pca, features_df = p.pca_features(csv,target)\n",
    "g = p.get_components(csv,target,5)\n",
    "\n",
    "# join pca components to dataframe and save on csv\n",
    "\n",
    "pca_df = features_df.join(data['cat'])\n",
    "data.reset_index(drop=True,inplace=True)\n",
    "pca_df = features_df.join(data['cat'])\n",
    "pca_df.to_csv('pca_3.csv')"
   ]
  },
  {
   "cell_type": "code",
   "execution_count": 42,
   "metadata": {},
   "outputs": [],
   "source": [
    "# Splitting Data\n",
    "csv = 'pca_3.csv'\n",
    "y = 'cat'\n",
    "d = DataClean(csv)\n",
    "df_mm, num_scale = d.read_scale(csv)\n",
    "X_train, X_test, y_train, y_test = d.split(csv,y)"
   ]
  },
  {
   "cell_type": "code",
   "execution_count": 43,
   "metadata": {},
   "outputs": [
    {
     "data": {
      "text/plain": [
       "cat\n",
       "0     246\n",
       "1    4974\n",
       "2    1277\n",
       "Name: c0, dtype: int64"
      ]
     },
     "execution_count": 43,
     "metadata": {},
     "output_type": "execute_result"
    }
   ],
   "source": [
    "df_mm.groupby('cat').count().iloc[:,0]"
   ]
  },
  {
   "cell_type": "markdown",
   "metadata": {},
   "source": [
    "### Rebalancing Classes"
   ]
  },
  {
   "cell_type": "code",
   "execution_count": 44,
   "metadata": {},
   "outputs": [
    {
     "data": {
      "text/plain": [
       "cat\n",
       "0    3982\n",
       "1    3982\n",
       "2    3982\n",
       "Name: alcohol, dtype: int64"
      ]
     },
     "execution_count": 44,
     "metadata": {},
     "output_type": "execute_result"
    }
   ],
   "source": [
    "smt = SMOTE(sampling_strategy='not majority', k_neighbors=3)\n",
    "X_train_s, y_train_s = smt.fit_sample(np.asarray(X_train), np.asarray(y_train))\n",
    "\n",
    "col = list(num_scale.columns)\n",
    "\n",
    "X_train_p = pd.DataFrame(X_train_s, columns=col)\n",
    "y_train_p= pd.DataFrame(y_train_s, columns=['cat'])\n",
    "\n",
    "smote_df = X_train_smote.join(y_train_p)\n",
    "\n",
    "smote_df.groupby('cat').count().iloc[:,0]"
   ]
  },
  {
   "cell_type": "code",
   "execution_count": 74,
   "metadata": {},
   "outputs": [
    {
     "name": "stdout",
     "output_type": "stream",
     "text": [
      "clf               precision    recall  f1-score   support\n",
      "\n",
      "           0       0.13      0.20      0.16        55\n",
      "           1       0.87      0.79      0.83       992\n",
      "           2       0.54      0.68      0.60       253\n",
      "\n",
      "    accuracy                           0.74      1300\n",
      "   macro avg       0.51      0.55      0.53      1300\n",
      "weighted avg       0.77      0.74      0.75      1300\n",
      "\n",
      "rf               precision    recall  f1-score   support\n",
      "\n",
      "           0       0.18      0.18      0.18        55\n",
      "           1       0.89      0.84      0.86       992\n",
      "           2       0.62      0.73      0.67       253\n",
      "\n",
      "    accuracy                           0.79      1300\n",
      "   macro avg       0.56      0.59      0.57      1300\n",
      "weighted avg       0.80      0.79      0.80      1300\n",
      "\n",
      "knn               precision    recall  f1-score   support\n",
      "\n",
      "           0       0.10      0.29      0.15        55\n",
      "           1       0.89      0.65      0.76       992\n",
      "           2       0.49      0.81      0.61       253\n",
      "\n",
      "    accuracy                           0.67      1300\n",
      "   macro avg       0.50      0.59      0.51      1300\n",
      "weighted avg       0.78      0.67      0.70      1300\n",
      "\n",
      "svm               precision    recall  f1-score   support\n",
      "\n",
      "           0       0.13      0.56      0.22        55\n",
      "           1       0.91      0.52      0.66       992\n",
      "           2       0.42      0.82      0.56       253\n",
      "\n",
      "    accuracy                           0.58      1300\n",
      "   macro avg       0.49      0.64      0.48      1300\n",
      "weighted avg       0.78      0.58      0.62      1300\n",
      "\n",
      "lg               precision    recall  f1-score   support\n",
      "\n",
      "           0       0.11      0.62      0.19        55\n",
      "           1       0.88      0.44      0.58       992\n",
      "           2       0.39      0.79      0.52       253\n",
      "\n",
      "    accuracy                           0.51      1300\n",
      "   macro avg       0.46      0.62      0.43      1300\n",
      "weighted avg       0.75      0.51      0.56      1300\n",
      "\n"
     ]
    }
   ],
   "source": [
    "models = [('clf', DecisionTreeClassifier()),\n",
    "        ('rf', RandomForestClassifier()),\n",
    "        ('knn', KNeighborsClassifier()),\n",
    "        ('svm', SVC()),\n",
    "        ('lg', LogisticRegression())]\n",
    "\n",
    "\n",
    "spaces = [[{\"clf\": [DecisionTreeClassifier()],\n",
    "                    \"clf__criterion\": ['gini', 'entropy'],\n",
    "                    \"clf__presort\": [True, False]}],\n",
    "                [{\"rf\": [RandomForestClassifier()],\n",
    "                    \"rf__n_estimators\": [10, 100, 1000],\n",
    "                    \"rf__max_features\": [1, 2, 3],\n",
    "                    'rf__max_features': ['auto', 'sqrt', 'log2']}],\n",
    "                [{ \"knn\" : [KNeighborsClassifier()],\n",
    "                    'knn__n_neighbors': [1,2,3,4,5,6,7,8,9],\n",
    "                    'knn__p': [1,2]}],\n",
    "                [{\"svm\" : [SVC()],\n",
    "                    'svm__kernel': ['linear','rbf', 'sigmoid'],\n",
    "                    'svm__decision_function_shape': ['ovo', 'ovr']}],\n",
    "                [{ \"lg\" : [LogisticRegression()],\n",
    "                    \"lg__penalty\": ['l1', 'l2'],\n",
    "                    \"lg__C\": np.logspace(0, 4, 10)}]]\n",
    "\n",
    "\n",
    "g_p = []\n",
    "b_e = []\n",
    "y_pred_p = []\n",
    "\n",
    "for m, s in zip(models,spaces):\n",
    "    pipeline = Pipeline([m])\n",
    "    pipeline.fit(X_train_p, y_train_p) \n",
    "    y_hat = pipeline.predict(X_test)\n",
    "    print(m[0],classification_report(y_test, y_hat))\n",
    "    classifier = GridSearchCV(pipeline, s, cv=5, verbose=0).fit(X_train_p, y_train_p)\n",
    "    y_hat = classifier.predict(X_test)\n",
    "    y_pred_p.append(y_hat)\n",
    "    bp = classifier.best_estimator_\n",
    "    gp = classifier.get_params()\n",
    "    b_e.append(bp)\n",
    "    g_p.append(gp)"
   ]
  },
  {
   "cell_type": "markdown",
   "metadata": {},
   "source": [
    "### Results:\n",
    "    - Compared to the previous estimation PCA components does not improve significantly the performance. \n",
    "    - Random forest continues to perform the best. Small improvement from non-PCA model\n",
    "    "
   ]
  },
  {
   "cell_type": "markdown",
   "metadata": {},
   "source": [
    "### PRECISION-RECALL Curve"
   ]
  },
  {
   "cell_type": "code",
   "execution_count": 76,
   "metadata": {},
   "outputs": [
    {
     "data": {
      "image/png": "[encoded data removed]",
      "text/plain": [
       "<Figure size 576x396 with 1 Axes>"
      ]
     },
     "metadata": {},
     "output_type": "display_data"
    },
    {
     "data": {
      "text/plain": [
       "<matplotlib.axes._subplots.AxesSubplot at 0x1c74f732e8>"
      ]
     },
     "execution_count": 76,
     "metadata": {},
     "output_type": "execute_result"
    }
   ],
   "source": [
    "viz = PrecisionRecallCurve(b_e[1], \n",
    "                    per_class=True, iso_f1_curves=True,\n",
    "                    fill_area=False, micro=False, classes=['bad','average','good']\n",
    "                )\n",
    "\n",
    "viz.fit(X_train_smote, y_train_smote)\n",
    "viz.score(X_test, y_test)\n",
    "viz.show()"
   ]
  },
  {
   "cell_type": "markdown",
   "metadata": {},
   "source": [
    "## Feature Importance"
   ]
  },
  {
   "cell_type": "code",
   "execution_count": 80,
   "metadata": {},
   "outputs": [
    {
     "data": {
      "text/plain": [
       "RandomForestClassifier(bootstrap=True, ccp_alpha=0.0, class_weight=None,\n",
       "                       criterion='gini', max_depth=None, max_features='auto',\n",
       "                       max_leaf_nodes=None, max_samples=None,\n",
       "                       min_impurity_decrease=0.0, min_impurity_split=None,\n",
       "                       min_samples_leaf=1, min_samples_split=2,\n",
       "                       min_weight_fraction_leaf=0.0, n_estimators=1000,\n",
       "                       n_jobs=None, oob_score=False, random_state=None,\n",
       "                       verbose=0, warm_start=False)"
      ]
     },
     "execution_count": 80,
     "metadata": {},
     "output_type": "execute_result"
    }
   ],
   "source": [
    "model = RandomForestClassifier(bootstrap=True, ccp_alpha=0.0,\n",
    "                                        class_weight=None, criterion='gini',\n",
    "                                        max_depth=None, max_features='auto',\n",
    "                                        max_leaf_nodes=None, max_samples=None,\n",
    "                                        min_impurity_decrease=0.0,\n",
    "                                        min_impurity_split=None,\n",
    "                                        min_samples_leaf=1, min_samples_split=2,\n",
    "                                        min_weight_fraction_leaf=0.0,\n",
    "                                        n_estimators=1000, n_jobs=None,\n",
    "                                        oob_score=False, random_state=None,\n",
    "                                        verbose=0, warm_start=False)\n",
    "model.fit(X_train_p, y_train_p)"
   ]
  },
  {
   "cell_type": "code",
   "execution_count": 45,
   "metadata": {},
   "outputs": [
    {
     "data": {
      "text/plain": [
       "<BarContainer object of 5 artists>"
      ]
     },
     "execution_count": 45,
     "metadata": {},
     "output_type": "execute_result"
    },
    {
     "data": {
      "image/png": "[encoded data removed]",
      "text/plain": [
       "<Figure size 576x360 with 1 Axes>"
      ]
     },
     "metadata": {},
     "output_type": "display_data"
    }
   ],
   "source": [
    "y_pred = model.predict(X_test)\n",
    "\n",
    "importances = model.feature_importances_\n",
    "\n",
    "y_pred = model.predict(X_test)\n",
    "\n",
    "importances = model.feature_importances_\n",
    "\n",
    "dt_feature_importance = [(X_train_p.columns[i[0]], i[1]) for i in list(enumerate(importances))]\n",
    "dt_feature_importance = sorted(dt_feature_importance, key = lambda x: x[1], reverse = True)[:5]\n",
    "fig = plt.figure(figsize = (8,5))\n",
    "plt.bar([i[0] for i in dt_feature_importance], [i[1] for i in dt_feature_importance], color='skyblue')"
   ]
  }
 ],
 "metadata": {
  "kernelspec": {
   "display_name": "Python 3",
   "language": "python",
   "name": "python3"
  },
  "language_info": {
   "codemirror_mode": {
    "name": "ipython",
    "version": 3
   },
   "file_extension": ".py",
   "mimetype": "text/x-python",
   "name": "python",
   "nbconvert_exporter": "python",
   "pygments_lexer": "ipython3",
   "version": "3.7.3"
  }
 },
 "nbformat": 4,
 "nbformat_minor": 4
}
