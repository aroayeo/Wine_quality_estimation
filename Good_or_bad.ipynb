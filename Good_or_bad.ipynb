{
 "cells": [
  {
   "cell_type": "markdown",
   "metadata": {},
   "source": [
    "## Red or White Wine"
   ]
  },
  {
   "cell_type": "code",
   "execution_count": 3,
   "metadata": {},
   "outputs": [],
   "source": [
    "from define_classes import *\n",
    "from data_processing import *\n",
    "from pca import *\n",
    "from csv_clean import *\n",
    "from polynomial_regression import *\n",
    "%load_ext autoreload\n",
    "%autoreload 2"
   ]
  },
  {
   "cell_type": "code",
   "execution_count": 10,
   "metadata": {
    "jupyter": {
     "source_hidden": true
    }
   },
   "outputs": [],
   "source": [
    "import numpy as np\n",
    "from sklearn.utils.class_weight import compute_sample_weight\n",
    "from imblearn.over_sampling import SMOTE\n",
    "from sklearn.linear_model import LogisticRegression\n",
    "from sklearn.tree import DecisionTreeClassifier\n",
    "from sklearn.ensemble import RandomForestClassifier, RandomForestRegressor, VotingClassifier\n",
    "from sklearn.neural_network import MLPClassifier\n",
    "from sklearn.model_selection import cross_val_score, GridSearchCV\n",
    "from sklearn.svm import SVC\n",
    "from sklearn.metrics import recall_score, classification_report, accuracy_score, precision_score, precision_recall_curve\n",
    "from sklearn.preprocessing import label_binarize\n",
    "from ordinal import *\n",
    "import matplotlib.pyplot as plt\n",
    "from sklearn.naive_bayes import GaussianNB\n",
    "from sklearn.neighbors import KNeighborsClassifier "
   ]
  },
  {
   "cell_type": "code",
   "execution_count": 4,
   "metadata": {},
   "outputs": [
    {
     "data": {
      "text/plain": [
       "0    4898\n",
       "1    1599\n",
       "Name: type, dtype: int64"
      ]
     },
     "execution_count": 4,
     "metadata": {},
     "output_type": "execute_result"
    }
   ],
   "source": [
    "data = pd.read_csv('data.csv', index_col=0)\n",
    "data['type'].value_counts()"
   ]
  },
  {
   "cell_type": "code",
   "execution_count": 5,
   "metadata": {},
   "outputs": [],
   "source": [
    "# Splitting Data\n",
    "\n",
    "csv = 'data.csv'\n",
    "y = 'type'\n",
    "d = DataClean(csv)\n",
    "df_mm, num_scale = d.read_scale(csv)\n",
    "X_train, X_test, y_train, y_test = d.split(csv, y)"
   ]
  },
  {
   "cell_type": "code",
   "execution_count": 6,
   "metadata": {},
   "outputs": [
    {
     "data": {
      "text/plain": [
       "type\n",
       "0    3909\n",
       "1    3909\n",
       "Name: fixedacidity, dtype: int64"
      ]
     },
     "execution_count": 6,
     "metadata": {},
     "output_type": "execute_result"
    }
   ],
   "source": [
    "# Balancing data\n",
    "\n",
    "smt = SMOTE(sampling_strategy='not majority', k_neighbors=3)\n",
    "X_train_s, y_train_s = smt.fit_sample(np.asarray(X_train), np.asarray(y_train))\n",
    "\n",
    "col = list(num_scale.columns)\n",
    "\n",
    "X_train_smote = pd.DataFrame(X_train_s, columns=col)\n",
    "y_train_smote = pd.DataFrame(y_train_s, columns=['type'])\n",
    "\n",
    "smote_df = X_train_smote.join(y_train_smote)\n",
    "\n",
    "smote_df.groupby('type').count().iloc[:,0]"
   ]
  },
  {
   "cell_type": "markdown",
   "metadata": {},
   "source": [
    "### Comparing Classification Models performance"
   ]
  },
  {
   "cell_type": "code",
   "execution_count": 19,
   "metadata": {},
   "outputs": [
    {
     "name": "stderr",
     "output_type": "stream",
     "text": [
      "/Users/flatironschool/anaconda3/lib/python3.7/site-packages/sklearn/utils/validation.py:760: DataConversionWarning: A column-vector y was passed when a 1d array was expected. Please change the shape of y to (n_samples, ), for example using ravel().\n",
      "  y = column_or_1d(y, warn=True)\n",
      "/Users/flatironschool/anaconda3/lib/python3.7/site-packages/sklearn/utils/validation.py:760: DataConversionWarning: A column-vector y was passed when a 1d array was expected. Please change the shape of y to (n_samples, ), for example using ravel().\n",
      "  y = column_or_1d(y, warn=True)\n",
      "/Users/flatironschool/anaconda3/lib/python3.7/site-packages/ipykernel_launcher.py:7: DataConversionWarning: A column-vector y was passed when a 1d array was expected. Please change the shape of y to (n_samples,), for example using ravel().\n",
      "  import sys\n",
      "/Users/flatironschool/anaconda3/lib/python3.7/site-packages/sklearn/neural_network/_multilayer_perceptron.py:934: DataConversionWarning: A column-vector y was passed when a 1d array was expected. Please change the shape of y to (n_samples, ), for example using ravel().\n",
      "  y = column_or_1d(y, warn=True)\n"
     ]
    }
   ],
   "source": [
    "LR = LogisticRegression(random_state=0, solver='lbfgs', class_weight='balanced').fit(X_train_smote, y_train_smote)\n",
    "y_lr = LR.predict(X_test)\n",
    "\n",
    "SVM = SVC(decision_function_shape=\"ovr\", class_weight='balanced').fit(X_train_smote, y_train_smote)\n",
    "y_sv = SVM.predict(X_test)\n",
    "\n",
    "RF = RandomForestClassifier(n_estimators=1000, max_depth=10, random_state=0, class_weight='balanced').fit(X_train_smote, y_train_smote)\n",
    "y_rf = RF.predict(X_test)\n",
    "\n",
    "NN = MLPClassifier(solver='lbfgs', alpha=1e-5, hidden_layer_sizes=(150, 10), random_state=1).fit(X_train_smote, y_train_smote)\n",
    "y_nn = NN.predict(X_test)"
   ]
  },
  {
   "cell_type": "code",
   "execution_count": 23,
   "metadata": {},
   "outputs": [],
   "source": [
    "model_predictions = [y_lr, y_sv, y_rf, y_nn]"
   ]
  },
  {
   "cell_type": "code",
   "execution_count": 26,
   "metadata": {},
   "outputs": [],
   "source": [
    "names = ['y_lr', 'y_sv', 'y_rf', 'y_nn']"
   ]
  },
  {
   "cell_type": "code",
   "execution_count": 28,
   "metadata": {},
   "outputs": [
    {
     "name": "stdout",
     "output_type": "stream",
     "text": [
      "Accuracy_y_lr: 0.992\n",
      "Precision_y_lr: 0.992\n",
      "Recall_y_lr: 0.992\n",
      "              precision    recall  f1-score   support\n",
      "\n",
      "           0       1.00      0.99      0.99       989\n",
      "           1       0.97      0.99      0.98       311\n",
      "\n",
      "    accuracy                           0.99      1300\n",
      "   macro avg       0.98      0.99      0.99      1300\n",
      "weighted avg       0.99      0.99      0.99      1300\n",
      "\n",
      "Accuracy_y_sv: 0.997\n",
      "Precision_y_sv: 0.997\n",
      "Recall_y_sv: 0.997\n",
      "              precision    recall  f1-score   support\n",
      "\n",
      "           0       1.00      1.00      1.00       989\n",
      "           1       0.99      0.99      0.99       311\n",
      "\n",
      "    accuracy                           1.00      1300\n",
      "   macro avg       1.00      1.00      1.00      1300\n",
      "weighted avg       1.00      1.00      1.00      1300\n",
      "\n",
      "Accuracy_y_rf: 0.996\n",
      "Precision_y_rf: 0.996\n",
      "Recall_y_rf: 0.996\n",
      "              precision    recall  f1-score   support\n",
      "\n",
      "           0       1.00      1.00      1.00       989\n",
      "           1       0.99      0.99      0.99       311\n",
      "\n",
      "    accuracy                           1.00      1300\n",
      "   macro avg       0.99      1.00      0.99      1300\n",
      "weighted avg       1.00      1.00      1.00      1300\n",
      "\n",
      "Accuracy_y_nn: 0.992\n",
      "Precision_y_nn: 0.992\n",
      "Recall_y_nn: 0.992\n",
      "              precision    recall  f1-score   support\n",
      "\n",
      "           0       1.00      0.99      0.99       989\n",
      "           1       0.98      0.99      0.98       311\n",
      "\n",
      "    accuracy                           0.99      1300\n",
      "   macro avg       0.99      0.99      0.99      1300\n",
      "weighted avg       0.99      0.99      0.99      1300\n",
      "\n"
     ]
    }
   ],
   "source": [
    "for y, n in zip(model_predictions, names):\n",
    "    print('Accuracy_{}:'.format(n), round(accuracy_score(y_test, y), 3))\n",
    "    print('Precision_{}:'.format(n), round(precision_score(y_test, y, average='weighted'),3))\n",
    "    print('Recall_{}:'.format(n), round(recall_score(y_test,y, average='weighted'),3))\n",
    "    print(classification_report(y_test, y))"
   ]
  },
  {
   "cell_type": "markdown",
   "metadata": {},
   "source": [
    "All of the classifiers perform well"
   ]
  },
  {
   "cell_type": "code",
   "execution_count": 30,
   "metadata": {},
   "outputs": [
    {
     "data": {
      "text/plain": [
       "Text(0.5, 257.44, 'Predicted label')"
      ]
     },
     "execution_count": 30,
     "metadata": {},
     "output_type": "execute_result"
    },
    {
     "data": {
      "image/png": "[encoded data removed]",
      "text/plain": [
       "<Figure size 432x288 with 2 Axes>"
      ]
     },
     "metadata": {
      "needs_background": "light"
     },
     "output_type": "display_data"
    }
   ],
   "source": [
    "from sklearn import metrics\n",
    "\n",
    "cnf_matrix = metrics.confusion_matrix(y_test, y_sv)\n",
    "cnf_matrix\n",
    "\n",
    "class_names=[0,1,2] # name  of classes\n",
    "fig, ax = plt.subplots()\n",
    "tick_marks = np.arange(len(class_names))\n",
    "plt.xticks(tick_marks, class_names)\n",
    "plt.yticks(tick_marks, class_names)\n",
    "# create heatmap\n",
    "sns.heatmap(pd.DataFrame(cnf_matrix), annot=True, cmap='YlGnBu' ,fmt='g')\n",
    "ax.xaxis.set_label_position(\"top\")\n",
    "plt.tight_layout()\n",
    "plt.title('Confusion matrix', y=1.1)\n",
    "plt.ylabel('Actual label')\n",
    "plt.xlabel('Predicted label')"
   ]
  },
  {
   "cell_type": "code",
   "execution_count": 49,
   "metadata": {},
   "outputs": [
    {
     "data": {
      "text/plain": [
       "<matplotlib.collections.PathCollection at 0x1c3bc59128>"
      ]
     },
     "execution_count": 49,
     "metadata": {},
     "output_type": "execute_result"
    },
    {
     "data": {
      "image/png": "[encoded data removed]",
      "text/plain": [
       "<Figure size 432x288 with 1 Axes>"
      ]
     },
     "metadata": {
      "needs_background": "light"
     },
     "output_type": "display_data"
    }
   ],
   "source": [
    "xfit = np.linspace(-1, 3.5)\n",
    "plt.scatter(data['alcohol'], data['density'], c=data['type'], s=50, cmap='autumn')"
   ]
  }
 ],
 "metadata": {
  "kernelspec": {
   "display_name": "Python 3",
   "language": "python",
   "name": "python3"
  },
  "language_info": {
   "codemirror_mode": {
    "name": "ipython",
    "version": 3
   },
   "file_extension": ".py",
   "mimetype": "text/x-python",
   "name": "python",
   "nbconvert_exporter": "python",
   "pygments_lexer": "ipython3",
   "version": "3.7.3"
  }
 },
 "nbformat": 4,
 "nbformat_minor": 4
}
