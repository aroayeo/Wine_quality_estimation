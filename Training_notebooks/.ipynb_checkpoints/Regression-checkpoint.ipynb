{
 "cells": [
  {
   "cell_type": "markdown",
   "metadata": {},
   "source": [
    "### Regression Analysis"
   ]
  },
  {
   "cell_type": "code",
   "execution_count": 1,
   "metadata": {},
   "outputs": [],
   "source": [
    "from data_processing import *"
   ]
  },
  {
   "cell_type": "code",
   "execution_count": 2,
   "metadata": {},
   "outputs": [],
   "source": [
    "d = data_clean()"
   ]
  },
  {
   "cell_type": "code",
   "execution_count": 3,
   "metadata": {},
   "outputs": [],
   "source": [
    "df_mm, num_scale = d.read_scale()"
   ]
  },
  {
   "cell_type": "code",
   "execution_count": 4,
   "metadata": {},
   "outputs": [],
   "source": [
    "X_train, X_test, y_train, y_test = d.split()"
   ]
  },
  {
   "cell_type": "code",
   "execution_count": 23,
   "metadata": {},
   "outputs": [],
   "source": [
    "X = pd.concat([X_train, X_test])\n",
    "y = pd.concat([y_train, y_test])"
   ]
  },
  {
   "cell_type": "code",
   "execution_count": 5,
   "metadata": {},
   "outputs": [],
   "source": [
    "for df in [X_train,X_test,y_train,y_test]:\n",
    "    df.reset_index(inplace=True, drop=True)"
   ]
  },
  {
   "cell_type": "markdown",
   "metadata": {},
   "source": [
    "### Polynomial Regression Test\n",
    "\n",
    "As the features available and the data is quite restrictive a polynomial regresison test will show if any interactions between the variables could potential add any value. This step is more informative that conclusive, as there are chances of overfitting and landing on spurious results."
   ]
  },
  {
   "cell_type": "code",
   "execution_count": 21,
   "metadata": {},
   "outputs": [],
   "source": [
    "from sklearn.linear_model import Lasso\n",
    "from sklearn.linear_model import LinearRegression\n",
    "from sklearn.preprocessing import PolynomialFeatures\n",
    "from sklearn.metrics import mean_squared_error"
   ]
  },
  {
   "cell_type": "code",
   "execution_count": 27,
   "metadata": {},
   "outputs": [
    {
     "name": "stdout",
     "output_type": "stream",
     "text": [
      "test score: 0.20090633366434085\n",
      "train score: 0.18236348848654182\n",
      "mse: 0.17195573076247997\n"
     ]
    },
    {
     "data": {
      "text/plain": [
       "array([ 0.04965549, -0.07237622, -0.00163416,  0.09372115, -0.00938946,\n",
       "        0.04571281, -0.0511653 , -0.08748405,  0.03617614,  0.05498255,\n",
       "        0.12999982])"
      ]
     },
     "execution_count": 27,
     "metadata": {},
     "output_type": "execute_result"
    }
   ],
   "source": [
    "lr = LinearRegression()\n",
    "\n",
    "model = lr.fit(X_train, y_train)\n",
    "\n",
    "print('test score:',model.score(X_test,y_test))\n",
    "\n",
    "print('train score:',model.score(X_train,y_train))\n",
    "\n",
    "y_pred = model.predict(X)\n",
    "\n",
    "mse = mean_squared_error(y, y_pred)\n",
    "print('mse:',mse)\n",
    "model.coef_"
   ]
  },
  {
   "cell_type": "code",
   "execution_count": 33,
   "metadata": {},
   "outputs": [],
   "source": [
    "poly = PolynomialFeatures(3)\n",
    "X_fin = poly.fit_transform(X_train)\n",
    "X_test_poly = poly.fit_transform(X_test)"
   ]
  },
  {
   "cell_type": "code",
   "execution_count": 44,
   "metadata": {},
   "outputs": [
    {
     "name": "stdout",
     "output_type": "stream",
     "text": [
      "['1', 'fixed acidity', 'volatile acidity', 'citric acid', 'residual sugar', 'chlorides', 'free sulfur dioxide', 'total sulfur dioxide', 'density', 'pH', 'sulphates', 'alcohol', 'fixed acidity^2', 'fixed acidity volatile acidity', 'fixed acidity citric acid', 'fixed acidity residual sugar', 'fixed acidity chlorides', 'fixed acidity free sulfur dioxide', 'fixed acidity total sulfur dioxide', 'fixed acidity density', 'fixed acidity pH', 'fixed acidity sulphates', 'fixed acidity alcohol', 'volatile acidity^2', 'volatile acidity citric acid', 'volatile acidity residual sugar', 'volatile acidity chlorides', 'volatile acidity free sulfur dioxide', 'volatile acidity total sulfur dioxide', 'volatile acidity density', 'volatile acidity pH', 'volatile acidity sulphates', 'volatile acidity alcohol', 'citric acid^2', 'citric acid residual sugar', 'citric acid chlorides', 'citric acid free sulfur dioxide', 'citric acid total sulfur dioxide', 'citric acid density', 'citric acid pH', 'citric acid sulphates', 'citric acid alcohol', 'residual sugar^2', 'residual sugar chlorides', 'residual sugar free sulfur dioxide', 'residual sugar total sulfur dioxide', 'residual sugar density', 'residual sugar pH', 'residual sugar sulphates', 'residual sugar alcohol', 'chlorides^2', 'chlorides free sulfur dioxide', 'chlorides total sulfur dioxide', 'chlorides density', 'chlorides pH', 'chlorides sulphates', 'chlorides alcohol', 'free sulfur dioxide^2', 'free sulfur dioxide total sulfur dioxide', 'free sulfur dioxide density', 'free sulfur dioxide pH', 'free sulfur dioxide sulphates', 'free sulfur dioxide alcohol', 'total sulfur dioxide^2', 'total sulfur dioxide density', 'total sulfur dioxide pH', 'total sulfur dioxide sulphates', 'total sulfur dioxide alcohol', 'density^2', 'density pH', 'density sulphates', 'density alcohol', 'pH^2', 'pH sulphates', 'pH alcohol', 'sulphates^2', 'sulphates alcohol', 'alcohol^2']\n"
     ]
    }
   ],
   "source": [
    "p = PolynomialFeatures(degree=2).fit(X_train)\n",
    "print(p.get_feature_names(X_train.columns))"
   ]
  },
  {
   "cell_type": "code",
   "execution_count": 48,
   "metadata": {},
   "outputs": [],
   "source": [
    "p.powers_;"
   ]
  },
  {
   "cell_type": "code",
   "execution_count": 49,
   "metadata": {},
   "outputs": [],
   "source": [
    "features = pd.DataFrame(p.transform(X_train), columns=p.get_feature_names(X_train.columns))"
   ]
  },
  {
   "cell_type": "code",
   "execution_count": null,
   "metadata": {},
   "outputs": [],
   "source": [
    "from sklearn.ensemble import ExtraTreesClassifier\n",
    "\n",
    "fm = ExtraTreesClassifier()\n",
    "fm.fit(X.values[:, 0:10], X['quality'])\n",
    "print(list(zip(wine.columns, etc.feature_importances_)))"
   ]
  },
  {
   "cell_type": "code",
   "execution_count": 60,
   "metadata": {},
   "outputs": [
    {
     "data": {
      "text/plain": [
       "(5197, 78)"
      ]
     },
     "execution_count": 60,
     "metadata": {},
     "output_type": "execute_result"
    }
   ],
   "source": [
    "X = features\n",
    "X.shape"
   ]
  },
  {
   "cell_type": "code",
   "execution_count": 62,
   "metadata": {},
   "outputs": [
    {
     "data": {
      "text/plain": [
       "(5197,)"
      ]
     },
     "execution_count": 62,
     "metadata": {},
     "output_type": "execute_result"
    }
   ],
   "source": [
    "y_train.shape"
   ]
  },
  {
   "cell_type": "code",
   "execution_count": 64,
   "metadata": {},
   "outputs": [
    {
     "name": "stdout",
     "output_type": "stream",
     "text": [
      "R2 = 0.26\n"
     ]
    }
   ],
   "source": [
    "import statsmodels.api as sm\n",
    "\n",
    "X = sm.add_constant(X) \n",
    "model_sm = sm.OLS(y_train,X)\n",
    "\n",
    "results = model_sm.fit()\n",
    "\n",
    "r2 = results.rsquared\n",
    "r2 = r2.round(2)\n",
    "print('R2 = {}'.format(r2))\n",
    "\n",
    "est_b = results.params\n"
   ]
  },
  {
   "cell_type": "code",
   "execution_count": 68,
   "metadata": {},
   "outputs": [],
   "source": [
    "results_summary = results.summary()"
   ]
  },
  {
   "cell_type": "code",
   "execution_count": 72,
   "metadata": {},
   "outputs": [
    {
     "data": {
      "text/plain": [
       "Index(['coef', 'std err', 't', 'P>|t|', '[0.025', '0.975]'], dtype='object')"
      ]
     },
     "execution_count": 72,
     "metadata": {},
     "output_type": "execute_result"
    }
   ],
   "source": [
    "results_as_html = results_summary.tables[1].as_html()\n",
    "pvalues = pd.read_html(results_as_html, header=0, index_col=0)[0]\n",
    "pvalues.columns"
   ]
  },
  {
   "cell_type": "code",
   "execution_count": 74,
   "metadata": {},
   "outputs": [],
   "source": [
    "pvalues.sort_values(by='P>|t|');"
   ]
  },
  {
   "cell_type": "code",
   "execution_count": 80,
   "metadata": {},
   "outputs": [
    {
     "data": {
      "text/html": [
       "<div>\n",
       "<style scoped>\n",
       "    .dataframe tbody tr th:only-of-type {\n",
       "        vertical-align: middle;\n",
       "    }\n",
       "\n",
       "    .dataframe tbody tr th {\n",
       "        vertical-align: top;\n",
       "    }\n",
       "\n",
       "    .dataframe thead th {\n",
       "        text-align: right;\n",
       "    }\n",
       "</style>\n",
       "<table border=\"1\" class=\"dataframe\">\n",
       "  <thead>\n",
       "    <tr style=\"text-align: right;\">\n",
       "      <th></th>\n",
       "      <th>coef</th>\n",
       "      <th>std err</th>\n",
       "      <th>t</th>\n",
       "      <th>P&gt;|t|</th>\n",
       "      <th>[0.025</th>\n",
       "      <th>0.975]</th>\n",
       "    </tr>\n",
       "  </thead>\n",
       "  <tbody>\n",
       "    <tr>\n",
       "      <th>density</th>\n",
       "      <td>-0.1604</td>\n",
       "      <td>0.032</td>\n",
       "      <td>-5.021</td>\n",
       "      <td>0.000</td>\n",
       "      <td>-0.223000</td>\n",
       "      <td>-0.098</td>\n",
       "    </tr>\n",
       "    <tr>\n",
       "      <th>density pH</th>\n",
       "      <td>-0.0988</td>\n",
       "      <td>0.040</td>\n",
       "      <td>-2.452</td>\n",
       "      <td>0.014</td>\n",
       "      <td>-0.178000</td>\n",
       "      <td>-0.020</td>\n",
       "    </tr>\n",
       "    <tr>\n",
       "      <th>volatile acidity</th>\n",
       "      <td>-0.0762</td>\n",
       "      <td>0.011</td>\n",
       "      <td>-6.915</td>\n",
       "      <td>0.000</td>\n",
       "      <td>-0.098000</td>\n",
       "      <td>-0.055</td>\n",
       "    </tr>\n",
       "    <tr>\n",
       "      <th>residual sugar chlorides</th>\n",
       "      <td>-0.0679</td>\n",
       "      <td>0.023</td>\n",
       "      <td>-2.965</td>\n",
       "      <td>0.003</td>\n",
       "      <td>-0.113000</td>\n",
       "      <td>-0.023</td>\n",
       "    </tr>\n",
       "    <tr>\n",
       "      <th>volatile acidity residual sugar</th>\n",
       "      <td>-0.0670</td>\n",
       "      <td>0.021</td>\n",
       "      <td>-3.146</td>\n",
       "      <td>0.002</td>\n",
       "      <td>-0.109000</td>\n",
       "      <td>-0.025</td>\n",
       "    </tr>\n",
       "    <tr>\n",
       "      <th>residual sugar^2</th>\n",
       "      <td>-0.0603</td>\n",
       "      <td>0.029</td>\n",
       "      <td>-2.053</td>\n",
       "      <td>0.040</td>\n",
       "      <td>-0.118000</td>\n",
       "      <td>-0.003</td>\n",
       "    </tr>\n",
       "    <tr>\n",
       "      <th>total sulfur dioxide sulphates</th>\n",
       "      <td>-0.0587</td>\n",
       "      <td>0.013</td>\n",
       "      <td>-4.611</td>\n",
       "      <td>0.000</td>\n",
       "      <td>-0.084000</td>\n",
       "      <td>-0.034</td>\n",
       "    </tr>\n",
       "    <tr>\n",
       "      <th>fixed acidity chlorides</th>\n",
       "      <td>-0.0563</td>\n",
       "      <td>0.016</td>\n",
       "      <td>-3.416</td>\n",
       "      <td>0.001</td>\n",
       "      <td>-0.089000</td>\n",
       "      <td>-0.024</td>\n",
       "    </tr>\n",
       "    <tr>\n",
       "      <th>total sulfur dioxide</th>\n",
       "      <td>-0.0510</td>\n",
       "      <td>0.012</td>\n",
       "      <td>-4.235</td>\n",
       "      <td>0.000</td>\n",
       "      <td>-0.075000</td>\n",
       "      <td>-0.027</td>\n",
       "    </tr>\n",
       "    <tr>\n",
       "      <th>fixed acidity^2</th>\n",
       "      <td>-0.0413</td>\n",
       "      <td>0.012</td>\n",
       "      <td>-3.523</td>\n",
       "      <td>0.000</td>\n",
       "      <td>-0.064000</td>\n",
       "      <td>-0.018</td>\n",
       "    </tr>\n",
       "    <tr>\n",
       "      <th>chlorides</th>\n",
       "      <td>-0.0310</td>\n",
       "      <td>0.014</td>\n",
       "      <td>-2.162</td>\n",
       "      <td>0.031</td>\n",
       "      <td>-0.059000</td>\n",
       "      <td>-0.003</td>\n",
       "    </tr>\n",
       "    <tr>\n",
       "      <th>chlorides sulphates</th>\n",
       "      <td>-0.0161</td>\n",
       "      <td>0.007</td>\n",
       "      <td>-2.475</td>\n",
       "      <td>0.013</td>\n",
       "      <td>-0.029000</td>\n",
       "      <td>-0.003</td>\n",
       "    </tr>\n",
       "    <tr>\n",
       "      <th>citric acid^2</th>\n",
       "      <td>-0.0135</td>\n",
       "      <td>0.004</td>\n",
       "      <td>-3.214</td>\n",
       "      <td>0.001</td>\n",
       "      <td>-0.022000</td>\n",
       "      <td>-0.005</td>\n",
       "    </tr>\n",
       "    <tr>\n",
       "      <th>citric acid free sulfur dioxide</th>\n",
       "      <td>0.0203</td>\n",
       "      <td>0.010</td>\n",
       "      <td>1.960</td>\n",
       "      <td>0.050</td>\n",
       "      <td>-0.000005</td>\n",
       "      <td>0.041</td>\n",
       "    </tr>\n",
       "    <tr>\n",
       "      <th>free sulfur dioxide sulphates</th>\n",
       "      <td>0.0349</td>\n",
       "      <td>0.011</td>\n",
       "      <td>3.317</td>\n",
       "      <td>0.001</td>\n",
       "      <td>0.014000</td>\n",
       "      <td>0.056</td>\n",
       "    </tr>\n",
       "    <tr>\n",
       "      <th>fixed acidity citric acid</th>\n",
       "      <td>0.0408</td>\n",
       "      <td>0.018</td>\n",
       "      <td>2.313</td>\n",
       "      <td>0.021</td>\n",
       "      <td>0.006000</td>\n",
       "      <td>0.075</td>\n",
       "    </tr>\n",
       "    <tr>\n",
       "      <th>pH</th>\n",
       "      <td>0.0507</td>\n",
       "      <td>0.010</td>\n",
       "      <td>4.903</td>\n",
       "      <td>0.000</td>\n",
       "      <td>0.030000</td>\n",
       "      <td>0.071</td>\n",
       "    </tr>\n",
       "    <tr>\n",
       "      <th>alcohol</th>\n",
       "      <td>0.0570</td>\n",
       "      <td>0.017</td>\n",
       "      <td>3.332</td>\n",
       "      <td>0.001</td>\n",
       "      <td>0.023000</td>\n",
       "      <td>0.091</td>\n",
       "    </tr>\n",
       "    <tr>\n",
       "      <th>sulphates</th>\n",
       "      <td>0.0582</td>\n",
       "      <td>0.009</td>\n",
       "      <td>6.513</td>\n",
       "      <td>0.000</td>\n",
       "      <td>0.041000</td>\n",
       "      <td>0.076</td>\n",
       "    </tr>\n",
       "    <tr>\n",
       "      <th>residual sugar total sulfur dioxide</th>\n",
       "      <td>0.0635</td>\n",
       "      <td>0.029</td>\n",
       "      <td>2.211</td>\n",
       "      <td>0.027</td>\n",
       "      <td>0.007000</td>\n",
       "      <td>0.120</td>\n",
       "    </tr>\n",
       "    <tr>\n",
       "      <th>free sulfur dioxide</th>\n",
       "      <td>0.0689</td>\n",
       "      <td>0.010</td>\n",
       "      <td>6.658</td>\n",
       "      <td>0.000</td>\n",
       "      <td>0.049000</td>\n",
       "      <td>0.089</td>\n",
       "    </tr>\n",
       "    <tr>\n",
       "      <th>fixed acidity</th>\n",
       "      <td>0.0834</td>\n",
       "      <td>0.016</td>\n",
       "      <td>5.267</td>\n",
       "      <td>0.000</td>\n",
       "      <td>0.052000</td>\n",
       "      <td>0.114</td>\n",
       "    </tr>\n",
       "    <tr>\n",
       "      <th>chlorides density</th>\n",
       "      <td>0.0847</td>\n",
       "      <td>0.032</td>\n",
       "      <td>2.643</td>\n",
       "      <td>0.008</td>\n",
       "      <td>0.022000</td>\n",
       "      <td>0.148</td>\n",
       "    </tr>\n",
       "    <tr>\n",
       "      <th>residual sugar</th>\n",
       "      <td>0.1271</td>\n",
       "      <td>0.021</td>\n",
       "      <td>6.107</td>\n",
       "      <td>0.000</td>\n",
       "      <td>0.086000</td>\n",
       "      <td>0.168</td>\n",
       "    </tr>\n",
       "    <tr>\n",
       "      <th>1</th>\n",
       "      <td>1.1248</td>\n",
       "      <td>0.015</td>\n",
       "      <td>75.071</td>\n",
       "      <td>0.000</td>\n",
       "      <td>1.095000</td>\n",
       "      <td>1.154</td>\n",
       "    </tr>\n",
       "  </tbody>\n",
       "</table>\n",
       "</div>"
      ],
      "text/plain": [
       "                                       coef  std err       t  P>|t|    [0.025  \\\n",
       "density                             -0.1604    0.032  -5.021  0.000 -0.223000   \n",
       "density pH                          -0.0988    0.040  -2.452  0.014 -0.178000   \n",
       "volatile acidity                    -0.0762    0.011  -6.915  0.000 -0.098000   \n",
       "residual sugar chlorides            -0.0679    0.023  -2.965  0.003 -0.113000   \n",
       "volatile acidity residual sugar     -0.0670    0.021  -3.146  0.002 -0.109000   \n",
       "residual sugar^2                    -0.0603    0.029  -2.053  0.040 -0.118000   \n",
       "total sulfur dioxide sulphates      -0.0587    0.013  -4.611  0.000 -0.084000   \n",
       "fixed acidity chlorides             -0.0563    0.016  -3.416  0.001 -0.089000   \n",
       "total sulfur dioxide                -0.0510    0.012  -4.235  0.000 -0.075000   \n",
       "fixed acidity^2                     -0.0413    0.012  -3.523  0.000 -0.064000   \n",
       "chlorides                           -0.0310    0.014  -2.162  0.031 -0.059000   \n",
       "chlorides sulphates                 -0.0161    0.007  -2.475  0.013 -0.029000   \n",
       "citric acid^2                       -0.0135    0.004  -3.214  0.001 -0.022000   \n",
       "citric acid free sulfur dioxide      0.0203    0.010   1.960  0.050 -0.000005   \n",
       "free sulfur dioxide sulphates        0.0349    0.011   3.317  0.001  0.014000   \n",
       "fixed acidity citric acid            0.0408    0.018   2.313  0.021  0.006000   \n",
       "pH                                   0.0507    0.010   4.903  0.000  0.030000   \n",
       "alcohol                              0.0570    0.017   3.332  0.001  0.023000   \n",
       "sulphates                            0.0582    0.009   6.513  0.000  0.041000   \n",
       "residual sugar total sulfur dioxide  0.0635    0.029   2.211  0.027  0.007000   \n",
       "free sulfur dioxide                  0.0689    0.010   6.658  0.000  0.049000   \n",
       "fixed acidity                        0.0834    0.016   5.267  0.000  0.052000   \n",
       "chlorides density                    0.0847    0.032   2.643  0.008  0.022000   \n",
       "residual sugar                       0.1271    0.021   6.107  0.000  0.086000   \n",
       "1                                    1.1248    0.015  75.071  0.000  1.095000   \n",
       "\n",
       "                                     0.975]  \n",
       "density                              -0.098  \n",
       "density pH                           -0.020  \n",
       "volatile acidity                     -0.055  \n",
       "residual sugar chlorides             -0.023  \n",
       "volatile acidity residual sugar      -0.025  \n",
       "residual sugar^2                     -0.003  \n",
       "total sulfur dioxide sulphates       -0.034  \n",
       "fixed acidity chlorides              -0.024  \n",
       "total sulfur dioxide                 -0.027  \n",
       "fixed acidity^2                      -0.018  \n",
       "chlorides                            -0.003  \n",
       "chlorides sulphates                  -0.003  \n",
       "citric acid^2                        -0.005  \n",
       "citric acid free sulfur dioxide       0.041  \n",
       "free sulfur dioxide sulphates         0.056  \n",
       "fixed acidity citric acid             0.075  \n",
       "pH                                    0.071  \n",
       "alcohol                               0.091  \n",
       "sulphates                             0.076  \n",
       "residual sugar total sulfur dioxide   0.120  \n",
       "free sulfur dioxide                   0.089  \n",
       "fixed acidity                         0.114  \n",
       "chlorides density                     0.148  \n",
       "residual sugar                        0.168  \n",
       "1                                     1.154  "
      ]
     },
     "execution_count": 80,
     "metadata": {},
     "output_type": "execute_result"
    }
   ],
   "source": [
    "pvalues.loc[(pvalues['P>|t|'] <= 0.05)].sort_values(by='coef')"
   ]
  },
  {
   "cell_type": "code",
   "execution_count": null,
   "metadata": {},
   "outputs": [],
   "source": []
  }
 ],
 "metadata": {
  "kernelspec": {
   "display_name": "Python 3",
   "language": "python",
   "name": "python3"
  },
  "language_info": {
   "codemirror_mode": {
    "name": "ipython",
    "version": 3
   },
   "file_extension": ".py",
   "mimetype": "text/x-python",
   "name": "python",
   "nbconvert_exporter": "python",
   "pygments_lexer": "ipython3",
   "version": "3.7.3"
  }
 },
 "nbformat": 4,
 "nbformat_minor": 4
}
